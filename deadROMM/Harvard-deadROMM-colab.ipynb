{
 "cells": [
  {
   "cell_type": "code",
   "execution_count": 1,
   "metadata": {
    "colab": {
     "base_uri": "https://localhost:8080/",
     "height": 1000
    },
    "executionInfo": {
     "elapsed": 113435,
     "status": "ok",
     "timestamp": 1604624326963,
     "user": {
      "displayName": "Philip Fahn-Lai",
      "photoUrl": "",
      "userId": "09313744250411697868"
     },
     "user_tz": 300
    },
    "id": "ZeXXd1p9X9jw",
    "outputId": "a5632861-9c60-4307-a1ec-c870a1fe9588"
   },
   "outputs": [
    {
     "name": "stdout",
     "output_type": "stream",
     "text": [
      "Mounted at /content/drive\n",
      "Requirement already satisfied: certifi in /usr/local/lib/python3.6/dist-packages (2020.6.20)\n",
      "Requirement already satisfied: chardet in /usr/local/lib/python3.6/dist-packages (3.0.4)\n",
      "Requirement already satisfied: click in /usr/local/lib/python3.6/dist-packages (7.1.2)\n",
      "Requirement already satisfied: easydict in /usr/local/lib/python3.6/dist-packages (1.9)\n",
      "Requirement already satisfied: h5py~=2.7 in /usr/local/lib/python3.6/dist-packages (2.10.0)\n",
      "Requirement already satisfied: intel-openmp in /usr/local/lib/python3.6/dist-packages (2020.0.133)\n",
      "Requirement already satisfied: imgaug in /usr/local/lib/python3.6/dist-packages (0.2.9)\n",
      "Requirement already satisfied: ipython in /usr/local/lib/python3.6/dist-packages (5.5.0)\n",
      "Requirement already satisfied: ipython-genutils in /usr/local/lib/python3.6/dist-packages (0.2.0)\n",
      "Collecting matplotlib==3.0.3\n",
      "\u001b[?25l  Downloading https://files.pythonhosted.org/packages/e9/69/f5e05f578585ed9935247be3788b374f90701296a70c8871bcd6d21edb00/matplotlib-3.0.3-cp36-cp36m-manylinux1_x86_64.whl (13.0MB)\n",
      "\u001b[K     |████████████████████████████████| 13.0MB 248kB/s \n",
      "\u001b[?25hRequirement already satisfied: moviepy in /usr/local/lib/python3.6/dist-packages (0.2.3.5)\n",
      "Collecting numpy==1.16.4\n",
      "\u001b[?25l  Downloading https://files.pythonhosted.org/packages/87/2d/e4656149cbadd3a8a0369fcd1a9c7d61cc7b87b3903b85389c70c989a696/numpy-1.16.4-cp36-cp36m-manylinux1_x86_64.whl (17.3MB)\n",
      "\u001b[K     |████████████████████████████████| 17.3MB 204kB/s \n",
      "\u001b[?25hCollecting opencv-python~=3.4\n",
      "\u001b[?25l  Downloading https://files.pythonhosted.org/packages/3b/26/7e65ec6251f385a92801774bcb057f77abfba2c0f58774f78c8a2311de35/opencv_python-3.4.11.45-cp36-cp36m-manylinux2014_x86_64.whl (49.1MB)\n",
      "\u001b[K     |████████████████████████████████| 49.1MB 45kB/s \n",
      "\u001b[?25hRequirement already satisfied: pandas in /usr/local/lib/python3.6/dist-packages (1.1.4)\n",
      "Requirement already satisfied: patsy in /usr/local/lib/python3.6/dist-packages (0.5.1)\n",
      "Requirement already satisfied: six in /usr/local/lib/python3.6/dist-packages (from h5py~=2.7) (1.15.0)\n",
      "Requirement already satisfied: Pillow in /usr/local/lib/python3.6/dist-packages (from imgaug) (7.0.0)\n",
      "Requirement already satisfied: Shapely in /usr/local/lib/python3.6/dist-packages (from imgaug) (1.7.1)\n",
      "Requirement already satisfied: scipy in /usr/local/lib/python3.6/dist-packages (from imgaug) (1.4.1)\n",
      "Requirement already satisfied: scikit-image>=0.11.0 in /usr/local/lib/python3.6/dist-packages (from imgaug) (0.16.2)\n",
      "Requirement already satisfied: imageio in /usr/local/lib/python3.6/dist-packages (from imgaug) (2.4.1)\n",
      "Requirement already satisfied: prompt-toolkit<2.0.0,>=1.0.4 in /usr/local/lib/python3.6/dist-packages (from ipython) (1.0.18)\n",
      "Requirement already satisfied: pickleshare in /usr/local/lib/python3.6/dist-packages (from ipython) (0.7.5)\n",
      "Requirement already satisfied: decorator in /usr/local/lib/python3.6/dist-packages (from ipython) (4.4.2)\n",
      "Requirement already satisfied: pexpect; sys_platform != \"win32\" in /usr/local/lib/python3.6/dist-packages (from ipython) (4.8.0)\n",
      "Requirement already satisfied: setuptools>=18.5 in /usr/local/lib/python3.6/dist-packages (from ipython) (50.3.2)\n",
      "Requirement already satisfied: traitlets>=4.2 in /usr/local/lib/python3.6/dist-packages (from ipython) (4.3.3)\n",
      "Requirement already satisfied: simplegeneric>0.8 in /usr/local/lib/python3.6/dist-packages (from ipython) (0.8.1)\n",
      "Requirement already satisfied: pygments in /usr/local/lib/python3.6/dist-packages (from ipython) (2.6.1)\n",
      "Requirement already satisfied: cycler>=0.10 in /usr/local/lib/python3.6/dist-packages (from matplotlib==3.0.3) (0.10.0)\n",
      "Requirement already satisfied: pyparsing!=2.0.4,!=2.1.2,!=2.1.6,>=2.0.1 in /usr/local/lib/python3.6/dist-packages (from matplotlib==3.0.3) (2.4.7)\n",
      "Requirement already satisfied: python-dateutil>=2.1 in /usr/local/lib/python3.6/dist-packages (from matplotlib==3.0.3) (2.8.1)\n",
      "Requirement already satisfied: kiwisolver>=1.0.1 in /usr/local/lib/python3.6/dist-packages (from matplotlib==3.0.3) (1.3.1)\n",
      "Requirement already satisfied: tqdm<5.0,>=4.11.2 in /usr/local/lib/python3.6/dist-packages (from moviepy) (4.41.1)\n",
      "Requirement already satisfied: pytz>=2017.2 in /usr/local/lib/python3.6/dist-packages (from pandas) (2018.9)\n",
      "Requirement already satisfied: networkx>=2.0 in /usr/local/lib/python3.6/dist-packages (from scikit-image>=0.11.0->imgaug) (2.5)\n",
      "Requirement already satisfied: PyWavelets>=0.4.0 in /usr/local/lib/python3.6/dist-packages (from scikit-image>=0.11.0->imgaug) (1.1.1)\n",
      "Requirement already satisfied: wcwidth in /usr/local/lib/python3.6/dist-packages (from prompt-toolkit<2.0.0,>=1.0.4->ipython) (0.2.5)\n",
      "Requirement already satisfied: ptyprocess>=0.5 in /usr/local/lib/python3.6/dist-packages (from pexpect; sys_platform != \"win32\"->ipython) (0.6.0)\n",
      "\u001b[31mERROR: umap-learn 0.4.6 has requirement numpy>=1.17, but you'll have numpy 1.16.4 which is incompatible.\u001b[0m\n",
      "\u001b[31mERROR: plotnine 0.6.0 has requirement matplotlib>=3.1.1, but you'll have matplotlib 3.0.3 which is incompatible.\u001b[0m\n",
      "\u001b[31mERROR: mizani 0.6.0 has requirement matplotlib>=3.1.1, but you'll have matplotlib 3.0.3 which is incompatible.\u001b[0m\n",
      "\u001b[31mERROR: datascience 0.10.6 has requirement folium==0.2.1, but you'll have folium 0.8.3 which is incompatible.\u001b[0m\n",
      "\u001b[31mERROR: albumentations 0.1.12 has requirement imgaug<0.2.7,>=0.2.5, but you'll have imgaug 0.2.9 which is incompatible.\u001b[0m\n",
      "Installing collected packages: numpy, matplotlib, opencv-python\n",
      "  Found existing installation: numpy 1.18.5\n",
      "    Uninstalling numpy-1.18.5:\n",
      "      Successfully uninstalled numpy-1.18.5\n",
      "  Found existing installation: matplotlib 3.2.2\n",
      "    Uninstalling matplotlib-3.2.2:\n",
      "      Successfully uninstalled matplotlib-3.2.2\n",
      "  Found existing installation: opencv-python 4.1.2.30\n",
      "    Uninstalling opencv-python-4.1.2.30:\n",
      "      Successfully uninstalled opencv-python-4.1.2.30\n",
      "Successfully installed matplotlib-3.0.3 numpy-1.16.4 opencv-python-3.4.11.45\n"
     ]
    },
    {
     "data": {
      "application/vnd.colab-display-data+json": {
       "pip_warning": {
        "packages": [
         "matplotlib",
         "mpl_toolkits",
         "numpy"
        ]
       }
      }
     },
     "metadata": {
      "tags": []
     },
     "output_type": "display_data"
    },
    {
     "name": "stdout",
     "output_type": "stream",
     "text": [
      "TensorFlow 1.x selected.\n",
      "/content/drive/My Drive/Development/DeepLabCut\n",
      "DLC loaded in light mode; you cannot use any GUI (labeling, relabeling and standalone GUI)\n"
     ]
    },
    {
     "name": "stderr",
     "output_type": "stream",
     "text": [
      "/usr/local/lib/python3.6/dist-packages/statsmodels/tools/_testing.py:19: FutureWarning: pandas.util.testing is deprecated. Use the functions in the public API at pandas.testing instead.\n",
      "  import pandas.util.testing as tm\n"
     ]
    },
    {
     "name": "stdout",
     "output_type": "stream",
     "text": [
      "WARNING:tensorflow:\n",
      "The TensorFlow contrib module will not be included in TensorFlow 2.0.\n",
      "For more information, please see:\n",
      "  * https://github.com/tensorflow/community/blob/master/rfcs/20180907-contrib-sunset.md\n",
      "  * https://github.com/tensorflow/addons\n",
      "  * https://github.com/tensorflow/io (for I/O related ops)\n",
      "If you depend on functionality not listed there, please file an issue.\n",
      "\n"
     ]
    }
   ],
   "source": [
    "from google.colab import drive\n",
    "drive.mount('/content/drive', force_remount=True)\n",
    "!pip install certifi chardet click easydict h5py~=2.7 intel-openmp imgaug ipython ipython-genutils matplotlib==3.0.3 moviepy numpy==1.16.4 opencv-python~=3.4 pandas patsy \n",
    "!pip install python-dateutil pyyaml>=5.1 requests ruamel.yaml~=0.15 setuptools scikit-image scikit-learn scipy six statsmodels tables tensorpack>=0.9.7.1 tqdm wheel blend-modes\n",
    "%tensorflow_version 1.x\n",
    "import numpy as np\n",
    "import time\n",
    "import sys\n",
    "import os\n",
    "import importlib\n",
    "\n",
    "from IPython.display import HTML, display\n",
    "def set_css():\n",
    "  display(HTML('''\n",
    "  <style>\n",
    "    pre {\n",
    "        white-space: pre-wrap;\n",
    "    }\n",
    "  </style>\n",
    "  '''))\n",
    "get_ipython().events.register('pre_run_cell', set_css)\n",
    "\n",
    "from google.colab import output\n",
    "def alert_done():\n",
    "  output.eval_js('new Audio(\"https://upload.wikimedia.org/wikipedia/commons/b/bd/Bienenkorbglocke.1133.Hz.ogg\").play()')\n",
    "\n",
    "os.environ[\"DLClight\"]=\"True\"\n",
    "%cd drive/My\\ Drive/Development/DeepLabCut\n",
    "import deeplabcut\n",
    "from deadROMM import possumPolish\n",
    "%matplotlib inline\n",
    "\n",
    "alert_done()"
   ]
  },
  {
   "cell_type": "code",
   "execution_count": null,
   "metadata": {
    "colab": {
     "base_uri": "https://localhost:8080/",
     "height": 323
    },
    "executionInfo": {
     "elapsed": 4914,
     "status": "ok",
     "timestamp": 1600879106629,
     "user": {
      "displayName": "Phil Fahn-Lai",
      "photoUrl": "https://lh3.googleusercontent.com/a-/AOh14GgaLRzhwWuE2_ZNOkUUkb6lkk-noGiIsb7ucOzW=s64",
      "userId": "13631433551768862211"
     },
     "user_tz": 240
    },
    "id": "HUa4U1zqUTmS",
    "outputId": "d41b1087-c77f-4795-9cf7-13d9ca952f67"
   },
   "outputs": [
    {
     "data": {
      "text/html": [
       "\n",
       "  <style>\n",
       "    pre {\n",
       "        white-space: pre-wrap;\n",
       "    }\n",
       "  </style>\n",
       "  "
      ],
      "text/plain": [
       "<IPython.core.display.HTML object>"
      ]
     },
     "metadata": {
      "tags": []
     },
     "output_type": "display_data"
    },
    {
     "name": "stdout",
     "output_type": "stream",
     "text": [
      "Creating cam1-cam2-crossed synthetic markers\n",
      "['cx_Body_ds1_crn_cam1x2_X', 'cx_Body_ds1_crn_cam1x2_Y', 'cx_Body_ds2_int_cam1x2_X', 'cx_Body_ds2_int_cam1x2_Y', 'cx_Body_ds3_cdl_cam1x2_X', 'cx_Body_ds3_cdl_cam1x2_Y', 'cx_Body_vn1_crn_cam1x2_X', 'cx_Body_vn1_crn_cam1x2_Y', 'cx_Body_vn2_int_cam1x2_X', 'cx_Body_vn2_int_cam1x2_Y', 'cx_Body_vn3_cdl_cam1x2_X', 'cx_Body_vn3_cdl_cam1x2_Y', 'cx_Scapula_acr_cam1x2_X', 'cx_Scapula_acr_cam1x2_Y', 'cx_Scapula_spi_cam1x2_X', 'cx_Scapula_spi_cam1x2_Y', 'cx_Scapula_vtb_cam1x2_X', 'cx_Scapula_vtb_cam1x2_Y', 'cx_Humerus_dpc_cam1x2_X', 'cx_Humerus_dpc_cam1x2_Y', 'cx_Humerus_ent_cam1x2_X', 'cx_Humerus_ent_cam1x2_Y', 'cx_Humerus_ect_cam1x2_X', 'cx_Humerus_ect_cam1x2_Y', 'cx_Ulna_olc_cam1x2_X', 'cx_Ulna_olc_cam1x2_Y', 'cx_Ulna_int_cam1x2_X', 'cx_Ulna_int_cam1x2_Y', 'cx_Ulna_dst_cam1x2_X', 'cx_Ulna_dst_cam1x2_Y', 'cx_Radius_prx_cam1x2_X', 'cx_Radius_prx_cam1x2_Y', 'cx_Radius_int_cam1x2_X', 'cx_Radius_int_cam1x2_Y', 'cx_Radius_dst_cam1x2_X', 'cx_Radius_dst_cam1x2_Y', 'cx_Teres_maj_prx_cam1x2_X', 'cx_Teres_maj_prx_cam1x2_Y', 'cx_Teres_maj_dst_cam1x2_X', 'cx_Teres_maj_dst_cam1x2_Y', 'cx_Biceps_prx_cam1x2_X', 'cx_Biceps_prx_cam1x2_Y', 'cx_Biceps_dst_cam1x2_X', 'cx_Biceps_dst_cam1x2_Y']\n"
     ]
    },
    {
     "name": "stderr",
     "output_type": "stream",
     "text": [
      "/content/drive/My Drive/Development/DeepLabCut/deadROMM/possumPolish.py:283: UnsafeLoaderWarning: \n",
      "The default 'Loader' for 'load(stream)' without further arguments can be unsafe.\n",
      "Use 'load(stream, Loader=ruamel.yaml.Loader)' explicitly if that is OK.\n",
      "Alternatively include the following in your code:\n",
      "\n",
      "  import warnings\n",
      "  warnings.simplefilter('ignore', ruamel.yaml.error.UnsafeLoaderWarning)\n",
      "\n",
      "In most other cases you should consider using 'safe_load(stream)'\n",
      "  self.config = ruamel.yaml.load(open(self.yaml))\n"
     ]
    },
    {
     "name": "stdout",
     "output_type": "stream",
     "text": [
      "Updated config.yaml with event cross at 23Sep20_16h38m25s\n",
      "Successfully generated synthetic features; saved ./dev/possum101_11Apr-Phil-2020-04-13-diff/labeled-data/11Apr_diff/CollectedData_Phil_backup_cross.h5, ./dev/possum101_11Apr-Phil-2020-04-13-diff/labeled-data/11Apr_diff/CollectedData_Phil_backup_cross23Sep20_16h38m25s.h5, and ./dev/possum101_11Apr-Phil-2020-04-13-diff/labeled-data/11Apr_diff/CollectedData_Phil_backup_cross_23Sep20_16h38m25s.csv\n"
     ]
    }
   ],
   "source": [
    "bp_list = model.swapFeaturesHdf(r'./dev/possum101_11Apr-Phil-2020-04-13-diff/labeled-data/11Apr_diff/CollectedData_Phil_backup.h5', swap=False, cross=True)\n",
    "model.swapCrossPoseCfgs(\n",
    "    r'./dev/possum101_11Apr-Phil-2020-04-13-diff/dlc-models/iteration-5/possum101_11AprApr13-trainset95shuffle1/train/pose_cfg.yaml',\n",
    "    r'./dev/possum101_11Apr-Phil-2020-04-13-diff/dlc-models/iteration-5/possum101_11AprApr13-trainset95shuffle1/test/pose_cfg.yaml',\n",
    "    bp_list\n",
    ")\n",
    "model.dlc.create_training_dataset(model.yaml)"
   ]
  },
  {
   "cell_type": "code",
   "execution_count": 2,
   "metadata": {
    "colab": {
     "base_uri": "https://localhost:8080/",
     "height": 238
    },
    "executionInfo": {
     "elapsed": 3046,
     "status": "ok",
     "timestamp": 1604624390626,
     "user": {
      "displayName": "Philip Fahn-Lai",
      "photoUrl": "",
      "userId": "09313744250411697868"
     },
     "user_tz": 300
    },
    "id": "Tz2IjevXktzJ",
    "outputId": "4a6f8bd0-5860-490a-c27a-8827e5588c73"
   },
   "outputs": [
    {
     "data": {
      "text/html": [
       "\n",
       "  <style>\n",
       "    pre {\n",
       "        white-space: pre-wrap;\n",
       "    }\n",
       "  </style>\n",
       "  "
      ],
      "text/plain": [
       "<IPython.core.display.HTML object>"
      ]
     },
     "metadata": {
      "tags": []
     },
     "output_type": "display_data"
    },
    {
     "name": "stderr",
     "output_type": "stream",
     "text": [
      "/content/drive/My Drive/Development/DeepLabCut/deadROMM/possumPolish.py:186: UnsafeLoaderWarning: \n",
      "The default 'Loader' for 'load(stream)' without further arguments can be unsafe.\n",
      "Use 'load(stream, Loader=ruamel.yaml.Loader)' explicitly if that is OK.\n",
      "Alternatively include the following in your code:\n",
      "\n",
      "  import warnings\n",
      "  warnings.simplefilter('ignore', ruamel.yaml.error.UnsafeLoaderWarning)\n",
      "\n",
      "In most other cases you should consider using 'safe_load(stream)'\n",
      "  profiles = ruamel.yaml.load(open(self.profile_path))\n"
     ]
    },
    {
     "name": "stdout",
     "output_type": "stream",
     "text": [
      "Loaded profile dv88left\n",
      "Generated absolute paths to project directories\n",
      "Successfully loaded profile dv88left\n"
     ]
    }
   ],
   "source": [
    "root = '/content/drive/My Drive/Development/DeepLabCut'\n",
    "\n",
    "importlib.reload(possumPolish)\n",
    "model = possumPolish.Project()\n",
    "\n",
    "# config_path = model.load('./deadROMM/profiles-colab.yaml','dv92', './dev/demo_blank_dv92_biceps_3pec_delt/config.yaml') #92\n",
    "# config_path = model.load('./deadROMM/profiles-colab.yaml','dv101right', './dev/possum101right_biceps_triceps-Phil-2020-06-08/config.yaml') #101R\n",
    "# config_path = model.load('./deadROMM/profiles-colab.yaml','dv101left', './dev/possum101_11Apr-Phil-2020-04-13-diff/config.yaml') #101L\n",
    "\n",
    "# config_path = model.load('./deadROMM/profiles-colab.yaml','dv92', './dev/dv92_biceps_3pec_delt-Phil-2020-06-09/config.yaml') #92\n",
    "# config_path = model.load('./deadROMM/profiles-colab.yaml','dv85left', './dev/dv85_left_biceps_teres_lat-Phil-2020-06-09/config.yaml') #85L\n",
    "# config_path = model.load('./deadROMM/profiles-colab.yaml','dv85right', './dev/dv85_right_triceps_lat-Phil-2020-06-09/config.yaml') #85R\n",
    "config_path = model.load('./deadROMM/profiles-colab.yaml','dv88left', './dev/dv88_left_teresmaj_pec-Phil-2020-06-09/config.yaml') #88L\n",
    "# config_path = model.load('./deadROMM/profiles-colab.yaml','dv88right', './dev/dv88_trilong_pec-Phil-2020-06-09/config.yaml') #88R\n",
    "# config_path = model.load('./deadROMM/profiles-colab.yaml','sm105', './dev/sm105-Phil-2020-06-09/config.yaml') #105\n",
    "# config_path = model.load('./deadROMM/profiles-colab.yaml','sm108', './dev/sm108-Phil-2020-06-09/config.yaml') #108\n",
    "# config_path = model.load('./deadROMM/profiles-colab.yaml','sm126', './dev/sm126-Phil-2020-06-09/config.yaml') #126\n",
    "\n",
    "# model.importXma(next(iter(model.config['history'].keys())))  #e.g. './dev/dv92_biceps...' no quotes\n",
    "# model.dlc.create_training_dataset(model.yaml)\n",
    "\n",
    "alert_done()"
   ]
  },
  {
   "cell_type": "code",
   "execution_count": null,
   "metadata": {
    "colab": {
     "base_uri": "https://localhost:8080/",
     "height": 1000
    },
    "executionInfo": {
     "elapsed": 1898412,
     "status": "ok",
     "timestamp": 1603755067874,
     "user": {
      "displayName": "Philip Fahn-Lai",
      "photoUrl": "",
      "userId": "09313744250411697868"
     },
     "user_tz": 240
    },
    "id": "cDtJAN60CBaY",
    "outputId": "cfe8ebfd-66d0-4c8e-f952-a34d2710c28a"
   },
   "outputs": [],
   "source": [
    "model.autocorrect('./dev/possum101right_biceps_triceps-Phil-2020-06-08/dlc-models/iteration-1/possum101right_biceps_tricepsJun8-trainset95shuffle1/train/150k_DIS_1scale/16Apr_diffDLC_resnet50_possum101right_biceps_tricepsJun8shuffle1_30000_everyevery10_split__p0.01_26Oct20_00h08m39s.h5',\n",
    "                  cam_dirs = {'cam1':'./dev/possum101right_biceps_triceps-Phil-2020-06-08/frames-for-xmalab/c1_16Apr_every10', 'cam2':'./dev/possum101right_biceps_triceps-Phil-2020-06-08/frames-for-xmalab/c2_16Apr_every10'})"
   ]
  },
  {
   "cell_type": "markdown",
   "metadata": {
    "id": "BWjBeS7gZCrN"
   },
   "source": [
    "### After digitizing outliers:\n",
    "1.   Import digitized 2D points to DeepLabCut. Specify any undigitizable frames (by their index in the entire stack, see filename) so DeepLabCut knows to ignore them. Don't forget the outlier_mode flag! Possumpolish will drop the undigitizable frames from the csv file\n",
    "\n",
    "\n"
   ]
  },
  {
   "cell_type": "code",
   "execution_count": 5,
   "metadata": {
    "colab": {
     "base_uri": "https://localhost:8080/",
     "height": 1000
    },
    "executionInfo": {
     "elapsed": 444,
     "status": "ok",
     "timestamp": 1604508956160,
     "user": {
      "displayName": "Philip Fahn-Lai",
      "photoUrl": "",
      "userId": "09313744250411697868"
     },
     "user_tz": 300
    },
    "id": "l3wMWa2pL5o4",
    "outputId": "92c2225a-231a-4bc1-f9ba-5c9bf66889a1"
   },
   "outputs": [
    {
     "data": {
      "text/html": [
       "\n",
       "  <style>\n",
       "    pre {\n",
       "        white-space: pre-wrap;\n",
       "    }\n",
       "  </style>\n",
       "  "
      ],
      "text/plain": [
       "<IPython.core.display.HTML object>"
      ]
     },
     "metadata": {
      "tags": []
     },
     "output_type": "display_data"
    },
    {
     "data": {
      "text/plain": [
       "[('30Jul20_20h37m00s',\n",
       "  {'files': ['./dev/dv88_left_teresmaj_pec-Phil-2020-06-09/frames-for-xmalab/c1_21Feb_outlier_30Jul20_20h37m00s/img0254.png',\n",
       "    './dev/dv88_left_teresmaj_pec-Phil-2020-06-09/frames-for-xmalab/c1_21Feb_outlier_30Jul20_20h37m00s/img0363.png',\n",
       "    './dev/dv88_left_teresmaj_pec-Phil-2020-06-09/frames-for-xmalab/c1_21Feb_outlier_30Jul20_20h37m00s/img0586.png',\n",
       "    './dev/dv88_left_teresmaj_pec-Phil-2020-06-09/frames-for-xmalab/c1_21Feb_outlier_30Jul20_20h37m00s/img0618.png',\n",
       "    './dev/dv88_left_teresmaj_pec-Phil-2020-06-09/frames-for-xmalab/c1_21Feb_outlier_30Jul20_20h37m00s/img0798.png',\n",
       "    './dev/dv88_left_teresmaj_pec-Phil-2020-06-09/frames-for-xmalab/c1_21Feb_outlier_30Jul20_20h37m00s/img0872.png',\n",
       "    './dev/dv88_left_teresmaj_pec-Phil-2020-06-09/frames-for-xmalab/c1_21Feb_outlier_30Jul20_20h37m00s/img1338.png',\n",
       "    './dev/dv88_left_teresmaj_pec-Phil-2020-06-09/frames-for-xmalab/c1_21Feb_outlier_30Jul20_20h37m00s/img1546.png',\n",
       "    './dev/dv88_left_teresmaj_pec-Phil-2020-06-09/frames-for-xmalab/c1_21Feb_outlier_30Jul20_20h37m00s/img1667.png',\n",
       "    './dev/dv88_left_teresmaj_pec-Phil-2020-06-09/frames-for-xmalab/c1_21Feb_outlier_30Jul20_20h37m00s/img1933.png',\n",
       "    './dev/dv88_left_teresmaj_pec-Phil-2020-06-09/frames-for-xmalab/c1_21Feb_outlier_30Jul20_20h37m00s/img2916.png',\n",
       "    './dev/dv88_left_teresmaj_pec-Phil-2020-06-09/frames-for-xmalab/c1_21Feb_outlier_30Jul20_20h37m00s/img3197.png',\n",
       "    './dev/dv88_left_teresmaj_pec-Phil-2020-06-09/frames-for-xmalab/c1_21Feb_outlier_30Jul20_20h37m00s/img3258.png',\n",
       "    './dev/dv88_left_teresmaj_pec-Phil-2020-06-09/frames-for-xmalab/c1_21Feb_outlier_30Jul20_20h37m00s/img3292.png',\n",
       "    './dev/dv88_left_teresmaj_pec-Phil-2020-06-09/frames-for-xmalab/c1_21Feb_outlier_30Jul20_20h37m00s/img3934.png',\n",
       "    './dev/dv88_left_teresmaj_pec-Phil-2020-06-09/frames-for-xmalab/c1_21Feb_outlier_30Jul20_20h37m00s/img3994.png',\n",
       "    './dev/dv88_left_teresmaj_pec-Phil-2020-06-09/frames-for-xmalab/c1_21Feb_outlier_30Jul20_20h37m00s/img4074.png',\n",
       "    './dev/dv88_left_teresmaj_pec-Phil-2020-06-09/frames-for-xmalab/c1_21Feb_outlier_30Jul20_20h37m00s/img4305.png',\n",
       "    './dev/dv88_left_teresmaj_pec-Phil-2020-06-09/frames-for-xmalab/c1_21Feb_outlier_30Jul20_20h37m00s/img4394.png',\n",
       "    './dev/dv88_left_teresmaj_pec-Phil-2020-06-09/frames-for-xmalab/c1_21Feb_outlier_30Jul20_20h37m00s/img4619.png',\n",
       "    './dev/dv88_left_teresmaj_pec-Phil-2020-06-09/frames-for-xmalab/c1_21Feb_outlier_30Jul20_20h37m00s/img5083.png',\n",
       "    './dev/dv88_left_teresmaj_pec-Phil-2020-06-09/frames-for-xmalab/c1_21Feb_outlier_30Jul20_20h37m00s/img5407.png',\n",
       "    './dev/dv88_left_teresmaj_pec-Phil-2020-06-09/frames-for-xmalab/c1_21Feb_outlier_30Jul20_20h37m00s/img5698.png',\n",
       "    './dev/dv88_left_teresmaj_pec-Phil-2020-06-09/frames-for-xmalab/c1_21Feb_outlier_30Jul20_20h37m00s/img6127.png',\n",
       "    './dev/dv88_left_teresmaj_pec-Phil-2020-06-09/frames-for-xmalab/c1_21Feb_outlier_30Jul20_20h37m00s/img6495.png',\n",
       "    './dev/dv88_left_teresmaj_pec-Phil-2020-06-09/frames-for-xmalab/c1_21Feb_outlier_30Jul20_20h37m00s/img6514.png',\n",
       "    './dev/dv88_left_teresmaj_pec-Phil-2020-06-09/frames-for-xmalab/c1_21Feb_outlier_30Jul20_20h37m00s/img7054.png',\n",
       "    './dev/dv88_left_teresmaj_pec-Phil-2020-06-09/frames-for-xmalab/c2_21Feb_outlier_30Jul20_20h37m00s/img0254.png',\n",
       "    './dev/dv88_left_teresmaj_pec-Phil-2020-06-09/frames-for-xmalab/c2_21Feb_outlier_30Jul20_20h37m00s/img0363.png',\n",
       "    './dev/dv88_left_teresmaj_pec-Phil-2020-06-09/frames-for-xmalab/c2_21Feb_outlier_30Jul20_20h37m00s/img0586.png',\n",
       "    './dev/dv88_left_teresmaj_pec-Phil-2020-06-09/frames-for-xmalab/c2_21Feb_outlier_30Jul20_20h37m00s/img0618.png',\n",
       "    './dev/dv88_left_teresmaj_pec-Phil-2020-06-09/frames-for-xmalab/c2_21Feb_outlier_30Jul20_20h37m00s/img0798.png',\n",
       "    './dev/dv88_left_teresmaj_pec-Phil-2020-06-09/frames-for-xmalab/c2_21Feb_outlier_30Jul20_20h37m00s/img0872.png',\n",
       "    './dev/dv88_left_teresmaj_pec-Phil-2020-06-09/frames-for-xmalab/c2_21Feb_outlier_30Jul20_20h37m00s/img1338.png',\n",
       "    './dev/dv88_left_teresmaj_pec-Phil-2020-06-09/frames-for-xmalab/c2_21Feb_outlier_30Jul20_20h37m00s/img1546.png',\n",
       "    './dev/dv88_left_teresmaj_pec-Phil-2020-06-09/frames-for-xmalab/c2_21Feb_outlier_30Jul20_20h37m00s/img1667.png',\n",
       "    './dev/dv88_left_teresmaj_pec-Phil-2020-06-09/frames-for-xmalab/c2_21Feb_outlier_30Jul20_20h37m00s/img1933.png',\n",
       "    './dev/dv88_left_teresmaj_pec-Phil-2020-06-09/frames-for-xmalab/c2_21Feb_outlier_30Jul20_20h37m00s/img2916.png',\n",
       "    './dev/dv88_left_teresmaj_pec-Phil-2020-06-09/frames-for-xmalab/c2_21Feb_outlier_30Jul20_20h37m00s/img3197.png',\n",
       "    './dev/dv88_left_teresmaj_pec-Phil-2020-06-09/frames-for-xmalab/c2_21Feb_outlier_30Jul20_20h37m00s/img3258.png',\n",
       "    './dev/dv88_left_teresmaj_pec-Phil-2020-06-09/frames-for-xmalab/c2_21Feb_outlier_30Jul20_20h37m00s/img3292.png',\n",
       "    './dev/dv88_left_teresmaj_pec-Phil-2020-06-09/frames-for-xmalab/c2_21Feb_outlier_30Jul20_20h37m00s/img3934.png',\n",
       "    './dev/dv88_left_teresmaj_pec-Phil-2020-06-09/frames-for-xmalab/c2_21Feb_outlier_30Jul20_20h37m00s/img3994.png',\n",
       "    './dev/dv88_left_teresmaj_pec-Phil-2020-06-09/frames-for-xmalab/c2_21Feb_outlier_30Jul20_20h37m00s/img4074.png',\n",
       "    './dev/dv88_left_teresmaj_pec-Phil-2020-06-09/frames-for-xmalab/c2_21Feb_outlier_30Jul20_20h37m00s/img4305.png',\n",
       "    './dev/dv88_left_teresmaj_pec-Phil-2020-06-09/frames-for-xmalab/c2_21Feb_outlier_30Jul20_20h37m00s/img4394.png',\n",
       "    './dev/dv88_left_teresmaj_pec-Phil-2020-06-09/frames-for-xmalab/c2_21Feb_outlier_30Jul20_20h37m00s/img4619.png',\n",
       "    './dev/dv88_left_teresmaj_pec-Phil-2020-06-09/frames-for-xmalab/c2_21Feb_outlier_30Jul20_20h37m00s/img5083.png',\n",
       "    './dev/dv88_left_teresmaj_pec-Phil-2020-06-09/frames-for-xmalab/c2_21Feb_outlier_30Jul20_20h37m00s/img5407.png',\n",
       "    './dev/dv88_left_teresmaj_pec-Phil-2020-06-09/frames-for-xmalab/c2_21Feb_outlier_30Jul20_20h37m00s/img5698.png',\n",
       "    './dev/dv88_left_teresmaj_pec-Phil-2020-06-09/frames-for-xmalab/c2_21Feb_outlier_30Jul20_20h37m00s/img6127.png',\n",
       "    './dev/dv88_left_teresmaj_pec-Phil-2020-06-09/frames-for-xmalab/c2_21Feb_outlier_30Jul20_20h37m00s/img6495.png',\n",
       "    './dev/dv88_left_teresmaj_pec-Phil-2020-06-09/frames-for-xmalab/c2_21Feb_outlier_30Jul20_20h37m00s/img6514.png',\n",
       "    './dev/dv88_left_teresmaj_pec-Phil-2020-06-09/frames-for-xmalab/c2_21Feb_outlier_30Jul20_20h37m00s/img7054.png'],\n",
       "   'operation': 'match_outliers'}),\n",
       " ('19Oct20_16h38m06s',\n",
       "  {'files': ['./dev/dv88_left_teresmaj_pec-Phil-2020-06-09/frames-for-xmalab/c1_21Feb_outlier_19Oct20_16h38m06s/img0452.png',\n",
       "    './dev/dv88_left_teresmaj_pec-Phil-2020-06-09/frames-for-xmalab/c1_21Feb_outlier_19Oct20_16h38m06s/img0628.png',\n",
       "    './dev/dv88_left_teresmaj_pec-Phil-2020-06-09/frames-for-xmalab/c1_21Feb_outlier_19Oct20_16h38m06s/img0823.png',\n",
       "    './dev/dv88_left_teresmaj_pec-Phil-2020-06-09/frames-for-xmalab/c1_21Feb_outlier_19Oct20_16h38m06s/img1066.png',\n",
       "    './dev/dv88_left_teresmaj_pec-Phil-2020-06-09/frames-for-xmalab/c1_21Feb_outlier_19Oct20_16h38m06s/img1611.png',\n",
       "    './dev/dv88_left_teresmaj_pec-Phil-2020-06-09/frames-for-xmalab/c1_21Feb_outlier_19Oct20_16h38m06s/img1612.png',\n",
       "    './dev/dv88_left_teresmaj_pec-Phil-2020-06-09/frames-for-xmalab/c1_21Feb_outlier_19Oct20_16h38m06s/img1613.png',\n",
       "    './dev/dv88_left_teresmaj_pec-Phil-2020-06-09/frames-for-xmalab/c1_21Feb_outlier_19Oct20_16h38m06s/img1681.png',\n",
       "    './dev/dv88_left_teresmaj_pec-Phil-2020-06-09/frames-for-xmalab/c1_21Feb_outlier_19Oct20_16h38m06s/img1800.png',\n",
       "    './dev/dv88_left_teresmaj_pec-Phil-2020-06-09/frames-for-xmalab/c1_21Feb_outlier_19Oct20_16h38m06s/img2428.png',\n",
       "    './dev/dv88_left_teresmaj_pec-Phil-2020-06-09/frames-for-xmalab/c1_21Feb_outlier_19Oct20_16h38m06s/img2429.png',\n",
       "    './dev/dv88_left_teresmaj_pec-Phil-2020-06-09/frames-for-xmalab/c1_21Feb_outlier_19Oct20_16h38m06s/img2430.png',\n",
       "    './dev/dv88_left_teresmaj_pec-Phil-2020-06-09/frames-for-xmalab/c1_21Feb_outlier_19Oct20_16h38m06s/img2932.png',\n",
       "    './dev/dv88_left_teresmaj_pec-Phil-2020-06-09/frames-for-xmalab/c1_21Feb_outlier_19Oct20_16h38m06s/img3203.png',\n",
       "    './dev/dv88_left_teresmaj_pec-Phil-2020-06-09/frames-for-xmalab/c1_21Feb_outlier_19Oct20_16h38m06s/img3204.png',\n",
       "    './dev/dv88_left_teresmaj_pec-Phil-2020-06-09/frames-for-xmalab/c1_21Feb_outlier_19Oct20_16h38m06s/img3542.png',\n",
       "    './dev/dv88_left_teresmaj_pec-Phil-2020-06-09/frames-for-xmalab/c1_21Feb_outlier_19Oct20_16h38m06s/img4051.png',\n",
       "    './dev/dv88_left_teresmaj_pec-Phil-2020-06-09/frames-for-xmalab/c1_21Feb_outlier_19Oct20_16h38m06s/img4052.png',\n",
       "    './dev/dv88_left_teresmaj_pec-Phil-2020-06-09/frames-for-xmalab/c1_21Feb_outlier_19Oct20_16h38m06s/img4113.png',\n",
       "    './dev/dv88_left_teresmaj_pec-Phil-2020-06-09/frames-for-xmalab/c1_21Feb_outlier_19Oct20_16h38m06s/img4119.png',\n",
       "    './dev/dv88_left_teresmaj_pec-Phil-2020-06-09/frames-for-xmalab/c1_21Feb_outlier_19Oct20_16h38m06s/img4374.png',\n",
       "    './dev/dv88_left_teresmaj_pec-Phil-2020-06-09/frames-for-xmalab/c1_21Feb_outlier_19Oct20_16h38m06s/img4377.png',\n",
       "    './dev/dv88_left_teresmaj_pec-Phil-2020-06-09/frames-for-xmalab/c1_21Feb_outlier_19Oct20_16h38m06s/img4796.png',\n",
       "    './dev/dv88_left_teresmaj_pec-Phil-2020-06-09/frames-for-xmalab/c1_21Feb_outlier_19Oct20_16h38m06s/img4800.png',\n",
       "    './dev/dv88_left_teresmaj_pec-Phil-2020-06-09/frames-for-xmalab/c1_21Feb_outlier_19Oct20_16h38m06s/img5630.png',\n",
       "    './dev/dv88_left_teresmaj_pec-Phil-2020-06-09/frames-for-xmalab/c1_21Feb_outlier_19Oct20_16h38m06s/img5631.png',\n",
       "    './dev/dv88_left_teresmaj_pec-Phil-2020-06-09/frames-for-xmalab/c1_21Feb_outlier_19Oct20_16h38m06s/img5823.png',\n",
       "    './dev/dv88_left_teresmaj_pec-Phil-2020-06-09/frames-for-xmalab/c1_21Feb_outlier_19Oct20_16h38m06s/img5930.png',\n",
       "    './dev/dv88_left_teresmaj_pec-Phil-2020-06-09/frames-for-xmalab/c1_21Feb_outlier_19Oct20_16h38m06s/img5936.png',\n",
       "    './dev/dv88_left_teresmaj_pec-Phil-2020-06-09/frames-for-xmalab/c1_21Feb_outlier_19Oct20_16h38m06s/img6436.png',\n",
       "    './dev/dv88_left_teresmaj_pec-Phil-2020-06-09/frames-for-xmalab/c1_21Feb_outlier_19Oct20_16h38m06s/img6437.png',\n",
       "    './dev/dv88_left_teresmaj_pec-Phil-2020-06-09/frames-for-xmalab/c1_21Feb_outlier_19Oct20_16h38m06s/img6438.png',\n",
       "    './dev/dv88_left_teresmaj_pec-Phil-2020-06-09/frames-for-xmalab/c1_21Feb_outlier_19Oct20_16h38m06s/img6507.png',\n",
       "    './dev/dv88_left_teresmaj_pec-Phil-2020-06-09/frames-for-xmalab/c1_21Feb_outlier_19Oct20_16h38m06s/img6708.png',\n",
       "    './dev/dv88_left_teresmaj_pec-Phil-2020-06-09/frames-for-xmalab/c1_21Feb_outlier_19Oct20_16h38m06s/img7044.png',\n",
       "    './dev/dv88_left_teresmaj_pec-Phil-2020-06-09/frames-for-xmalab/c2_21Feb_outlier_19Oct20_16h38m06s/img0452.png',\n",
       "    './dev/dv88_left_teresmaj_pec-Phil-2020-06-09/frames-for-xmalab/c2_21Feb_outlier_19Oct20_16h38m06s/img0628.png',\n",
       "    './dev/dv88_left_teresmaj_pec-Phil-2020-06-09/frames-for-xmalab/c2_21Feb_outlier_19Oct20_16h38m06s/img0823.png',\n",
       "    './dev/dv88_left_teresmaj_pec-Phil-2020-06-09/frames-for-xmalab/c2_21Feb_outlier_19Oct20_16h38m06s/img1066.png',\n",
       "    './dev/dv88_left_teresmaj_pec-Phil-2020-06-09/frames-for-xmalab/c2_21Feb_outlier_19Oct20_16h38m06s/img1611.png',\n",
       "    './dev/dv88_left_teresmaj_pec-Phil-2020-06-09/frames-for-xmalab/c2_21Feb_outlier_19Oct20_16h38m06s/img1612.png',\n",
       "    './dev/dv88_left_teresmaj_pec-Phil-2020-06-09/frames-for-xmalab/c2_21Feb_outlier_19Oct20_16h38m06s/img1613.png',\n",
       "    './dev/dv88_left_teresmaj_pec-Phil-2020-06-09/frames-for-xmalab/c2_21Feb_outlier_19Oct20_16h38m06s/img1681.png',\n",
       "    './dev/dv88_left_teresmaj_pec-Phil-2020-06-09/frames-for-xmalab/c2_21Feb_outlier_19Oct20_16h38m06s/img1800.png',\n",
       "    './dev/dv88_left_teresmaj_pec-Phil-2020-06-09/frames-for-xmalab/c2_21Feb_outlier_19Oct20_16h38m06s/img2428.png',\n",
       "    './dev/dv88_left_teresmaj_pec-Phil-2020-06-09/frames-for-xmalab/c2_21Feb_outlier_19Oct20_16h38m06s/img2429.png',\n",
       "    './dev/dv88_left_teresmaj_pec-Phil-2020-06-09/frames-for-xmalab/c2_21Feb_outlier_19Oct20_16h38m06s/img2430.png',\n",
       "    './dev/dv88_left_teresmaj_pec-Phil-2020-06-09/frames-for-xmalab/c2_21Feb_outlier_19Oct20_16h38m06s/img2932.png',\n",
       "    './dev/dv88_left_teresmaj_pec-Phil-2020-06-09/frames-for-xmalab/c2_21Feb_outlier_19Oct20_16h38m06s/img3203.png',\n",
       "    './dev/dv88_left_teresmaj_pec-Phil-2020-06-09/frames-for-xmalab/c2_21Feb_outlier_19Oct20_16h38m06s/img3204.png',\n",
       "    './dev/dv88_left_teresmaj_pec-Phil-2020-06-09/frames-for-xmalab/c2_21Feb_outlier_19Oct20_16h38m06s/img3542.png',\n",
       "    './dev/dv88_left_teresmaj_pec-Phil-2020-06-09/frames-for-xmalab/c2_21Feb_outlier_19Oct20_16h38m06s/img4051.png',\n",
       "    './dev/dv88_left_teresmaj_pec-Phil-2020-06-09/frames-for-xmalab/c2_21Feb_outlier_19Oct20_16h38m06s/img4052.png',\n",
       "    './dev/dv88_left_teresmaj_pec-Phil-2020-06-09/frames-for-xmalab/c2_21Feb_outlier_19Oct20_16h38m06s/img4113.png',\n",
       "    './dev/dv88_left_teresmaj_pec-Phil-2020-06-09/frames-for-xmalab/c2_21Feb_outlier_19Oct20_16h38m06s/img4119.png',\n",
       "    './dev/dv88_left_teresmaj_pec-Phil-2020-06-09/frames-for-xmalab/c2_21Feb_outlier_19Oct20_16h38m06s/img4374.png',\n",
       "    './dev/dv88_left_teresmaj_pec-Phil-2020-06-09/frames-for-xmalab/c2_21Feb_outlier_19Oct20_16h38m06s/img4377.png',\n",
       "    './dev/dv88_left_teresmaj_pec-Phil-2020-06-09/frames-for-xmalab/c2_21Feb_outlier_19Oct20_16h38m06s/img4796.png',\n",
       "    './dev/dv88_left_teresmaj_pec-Phil-2020-06-09/frames-for-xmalab/c2_21Feb_outlier_19Oct20_16h38m06s/img4800.png',\n",
       "    './dev/dv88_left_teresmaj_pec-Phil-2020-06-09/frames-for-xmalab/c2_21Feb_outlier_19Oct20_16h38m06s/img5630.png',\n",
       "    './dev/dv88_left_teresmaj_pec-Phil-2020-06-09/frames-for-xmalab/c2_21Feb_outlier_19Oct20_16h38m06s/img5631.png',\n",
       "    './dev/dv88_left_teresmaj_pec-Phil-2020-06-09/frames-for-xmalab/c2_21Feb_outlier_19Oct20_16h38m06s/img5823.png',\n",
       "    './dev/dv88_left_teresmaj_pec-Phil-2020-06-09/frames-for-xmalab/c2_21Feb_outlier_19Oct20_16h38m06s/img5930.png',\n",
       "    './dev/dv88_left_teresmaj_pec-Phil-2020-06-09/frames-for-xmalab/c2_21Feb_outlier_19Oct20_16h38m06s/img5936.png',\n",
       "    './dev/dv88_left_teresmaj_pec-Phil-2020-06-09/frames-for-xmalab/c2_21Feb_outlier_19Oct20_16h38m06s/img6436.png',\n",
       "    './dev/dv88_left_teresmaj_pec-Phil-2020-06-09/frames-for-xmalab/c2_21Feb_outlier_19Oct20_16h38m06s/img6437.png',\n",
       "    './dev/dv88_left_teresmaj_pec-Phil-2020-06-09/frames-for-xmalab/c2_21Feb_outlier_19Oct20_16h38m06s/img6438.png',\n",
       "    './dev/dv88_left_teresmaj_pec-Phil-2020-06-09/frames-for-xmalab/c2_21Feb_outlier_19Oct20_16h38m06s/img6507.png',\n",
       "    './dev/dv88_left_teresmaj_pec-Phil-2020-06-09/frames-for-xmalab/c2_21Feb_outlier_19Oct20_16h38m06s/img6708.png',\n",
       "    './dev/dv88_left_teresmaj_pec-Phil-2020-06-09/frames-for-xmalab/c2_21Feb_outlier_19Oct20_16h38m06s/img7044.png'],\n",
       "   'operation': 'match_outliers'})]"
      ]
     },
     "execution_count": 5,
     "metadata": {
      "tags": []
     },
     "output_type": "execute_result"
    }
   ],
   "source": [
    "outlier_extractions = [item for item in model.config['history'].items() if item[1]['operation'] == 'match_outliers']\n",
    "outlier_extractions"
   ]
  },
  {
   "cell_type": "code",
   "execution_count": 9,
   "metadata": {
    "colab": {
     "base_uri": "https://localhost:8080/",
     "height": 1000,
     "output_embedded_package_id": "1WNUKrg-zgOhuh3FEZjGUqRfm-xMAek2H"
    },
    "executionInfo": {
     "elapsed": 196190,
     "status": "ok",
     "timestamp": 1604509402279,
     "user": {
      "displayName": "Philip Fahn-Lai",
      "photoUrl": "",
      "userId": "09313744250411697868"
     },
     "user_tz": 300
    },
    "id": "W3ahUXdEbFJc",
    "outputId": "ca47e4ce-fb57-407d-967c-a823f4927727"
   },
   "outputs": [
    {
     "data": {
      "text/plain": [
       "Output hidden; open in https://colab.research.google.com to view."
      ]
     },
     "metadata": {},
     "output_type": "display_data"
    }
   ],
   "source": [
    "model.importXma('19Oct20_16h38m06s','./dev/dv88_left_teresmaj_pec-Phil-2020-06-09/xma/outliers2_distorted.csv',outlier_mode=True, indices_to_drop=[2, 4, 5, 9, 10, 13, 16, 24, 25, 29, 30], xma_indices = True) # point to the match_outliers event in config with the correct outlier frames"
   ]
  },
  {
   "cell_type": "markdown",
   "metadata": {
    "id": "5NiE_Jh9iPU4"
   },
   "source": [
    "2. Make sure to check your labels to make sure everything was imported correctly"
   ]
  },
  {
   "cell_type": "code",
   "execution_count": 6,
   "metadata": {
    "colab": {
     "base_uri": "https://localhost:8080/",
     "height": 102
    },
    "executionInfo": {
     "elapsed": 180058,
     "status": "ok",
     "timestamp": 1604159636865,
     "user": {
      "displayName": "Philip Fahn-Lai",
      "photoUrl": "",
      "userId": "09313744250411697868"
     },
     "user_tz": 240
    },
    "id": "bIMb92zAiSyo",
    "outputId": "b556b3b5-69d1-4c75-e287-c7ac0c4e5acf"
   },
   "outputs": [
    {
     "data": {
      "text/html": [
       "\n",
       "  <style>\n",
       "    pre {\n",
       "        white-space: pre-wrap;\n",
       "    }\n",
       "  </style>\n",
       "  "
      ],
      "text/plain": [
       "<IPython.core.display.HTML object>"
      ]
     },
     "metadata": {
      "tags": []
     },
     "output_type": "display_data"
    },
    {
     "name": "stdout",
     "output_type": "stream",
     "text": [
      "Creating images with labels by Phil.\n",
      "/content/drive/My Drive/Development/DeepLabCut/dev/possum101_11Apr-Phil-2020-04-13-diff/labeled-data/11Apr_diff_labeled  already exists!\n",
      "They are stored in the following folder: /content/drive/My Drive/Development/DeepLabCut/dev/possum101_11Apr-Phil-2020-04-13-diff/labeled-data/11Apr_diff_labeled.\n",
      "If all the labels are ok, then use the function 'create_training_dataset' to create the training dataset!\n"
     ]
    }
   ],
   "source": [
    "model.dlc.check_labels(model.yaml)"
   ]
  },
  {
   "cell_type": "markdown",
   "metadata": {
    "id": "7MWE8GzUqAhf"
   },
   "source": [
    "Increment iteration and retrain"
   ]
  },
  {
   "cell_type": "code",
   "execution_count": null,
   "metadata": {
    "colab": {
     "base_uri": "https://localhost:8080/",
     "height": 1000
    },
    "id": "bP3zg_5go9CE",
    "outputId": "dca6901b-836d-4669-835c-fe822011b0b4"
   },
   "outputs": [
    {
     "data": {
      "text/html": [
       "\n",
       "  <style>\n",
       "    pre {\n",
       "        white-space: pre-wrap;\n",
       "    }\n",
       "  </style>\n",
       "  "
      ],
      "text/plain": [
       "<IPython.core.display.HTML object>"
      ]
     },
     "metadata": {
      "tags": []
     },
     "output_type": "display_data"
    },
    {
     "name": "stderr",
     "output_type": "stream",
     "text": [
      "Config:\n",
      "{'all_joints': [[0],\n",
      "                [1],\n",
      "                [2],\n",
      "                [3],\n",
      "                [4],\n",
      "                [5],\n",
      "                [6],\n",
      "                [7],\n",
      "                [8],\n",
      "                [9],\n",
      "                [10],\n",
      "                [11],\n",
      "                [12],\n",
      "                [13],\n",
      "                [14],\n",
      "                [15],\n",
      "                [16],\n",
      "                [17],\n",
      "                [18],\n",
      "                [19],\n",
      "                [20],\n",
      "                [21],\n",
      "                [22],\n",
      "                [23],\n",
      "                [24],\n",
      "                [25],\n",
      "                [26],\n",
      "                [27]],\n",
      " 'all_joints_names': ['Body_ds1_crn_cam1',\n",
      "                      'Body_ds1_crn_cam2',\n",
      "                      'Body_ds3_cdl_cam1',\n",
      "                      'Body_ds3_cdl_cam2',\n",
      "                      'Body_vn1_crn_cam1',\n",
      "                      'Body_vn1_crn_cam2',\n",
      "                      'Scapula_acr_cam1',\n",
      "                      'Scapula_acr_cam2',\n",
      "                      'Scapula_spi_cam1',\n",
      "                      'Scapula_spi_cam2',\n",
      "                      'Scapula_vtb_cam1',\n",
      "                      'Scapula_vtb_cam2',\n",
      "                      'Humerus_dpc_cam1',\n",
      "                      'Humerus_dpc_cam2',\n",
      "                      'Humerus_ent_cam1',\n",
      "                      'Humerus_ent_cam2',\n",
      "                      'Humerus_ect_cam1',\n",
      "                      'Humerus_ect_cam2',\n",
      "                      'Ulna_olc_cam1',\n",
      "                      'Ulna_olc_cam2',\n",
      "                      'Ulna_int_cam1',\n",
      "                      'Ulna_int_cam2',\n",
      "                      'Ulna_dst_cam1',\n",
      "                      'Ulna_dst_cam2',\n",
      "                      'Teres_prx_cam1',\n",
      "                      'Teres_prx_cam2',\n",
      "                      'Latdor_dst_cam1',\n",
      "                      'Latdor_dst_cam2'],\n",
      " 'allchannelsclahe': True,\n",
      " 'augmentationprobability': 0.25,\n",
      " 'batch_size': 3,\n",
      " 'bottomheight': 400,\n",
      " 'covering': True,\n",
      " 'crop': True,\n",
      " 'crop_pad': 0,\n",
      " 'cropratio': 0.4,\n",
      " 'dataset': 'training-datasets/iteration-2/UnaugmentedDataSet_dv88_left_teresmaj_pecJun9/dv88_left_teresmaj_pec_Phil95shuffle1.mat',\n",
      " 'dataset_type': 'imgaug',\n",
      " 'deterministic': False,\n",
      " 'display_iters': 1000,\n",
      " 'elastic_transform': False,\n",
      " 'fg_fraction': 0.25,\n",
      " 'gamma': True,\n",
      " 'global_scale': 1.0,\n",
      " 'hist_eq': True,\n",
      " 'init_weights': '/content/drive/My '\n",
      "                 'Drive/Development/DeepLabCut/dev/dv88_left_teresmaj_pec-Phil-2020-06-09/dlc-models/iteration-2/dv88_left_teresmaj_pecJun9-trainset95shuffle1/train/snapshot-100000',\n",
      " 'intermediate_supervision': False,\n",
      " 'intermediate_supervision_layer': 12,\n",
      " 'leftwidth': 400,\n",
      " 'location_refinement': True,\n",
      " 'locref_huber_loss': True,\n",
      " 'locref_loss_weight': 0.05,\n",
      " 'locref_stdev': 7.2801,\n",
      " 'log_dir': 'log',\n",
      " 'logcontrast': True,\n",
      " 'max_input_size': 1500,\n",
      " 'mean_pixel': [123.68, 116.779, 103.939],\n",
      " 'metadataset': 'training-datasets/iteration-2/UnaugmentedDataSet_dv88_left_teresmaj_pecJun9/Documentation_data-dv88_left_teresmaj_pec_95shuffle1.pickle',\n",
      " 'min_input_size': 64,\n",
      " 'minsize': 100,\n",
      " 'mirror': False,\n",
      " 'motion_blur': False,\n",
      " 'multi_step': [[0.005, 10000],\n",
      "                [0.02, 430000],\n",
      "                [0.002, 730000],\n",
      "                [0.001, 1030000]],\n",
      " 'net_type': 'resnet_50',\n",
      " 'num_joints': 28,\n",
      " 'optimizer': 'sgd',\n",
      " 'pos_dist_thresh': 17,\n",
      " 'project_path': '/content/drive/My '\n",
      "                 'Drive/Development/DeepLabCut/dev/dv88_left_teresmaj_pec-Phil-2020-06-09',\n",
      " 'regularize': False,\n",
      " 'rightwidth': 400,\n",
      " 'rotation': False,\n",
      " 'save_iters': 50000,\n",
      " 'scale_jitter_lo': 0.8,\n",
      " 'scale_jitter_up': 1.2,\n",
      " 'scoremap_dir': 'test',\n",
      " 'shuffle': True,\n",
      " 'snapshot_prefix': '/content/drive/My '\n",
      "                    'Drive/Development/DeepLabCut/dev/dv88_left_teresmaj_pec-Phil-2020-06-09/dlc-models/iteration-2/dv88_left_teresmaj_pecJun9-trainset95shuffle1/train/snapshot',\n",
      " 'stride': 8.0,\n",
      " 'topheight': 400,\n",
      " 'weigh_negatives': False,\n",
      " 'weigh_only_present_joints': False,\n",
      " 'weigh_part_predictions': False,\n",
      " 'weight_decay': 0.0001}\n"
     ]
    },
    {
     "name": "stdout",
     "output_type": "stream",
     "text": [
      "Starting with imgaug pose-dataset loader.\n",
      "Batch Size is 3\n",
      "Initializing ResNet\n",
      "WARNING:tensorflow:From /tensorflow-1.15.2/python3.6/tensorflow_core/contrib/layers/python/layers/layers.py:1057: Layer.apply (from tensorflow.python.keras.engine.base_layer) is deprecated and will be removed in a future version.\n",
      "Instructions for updating:\n",
      "Please use `layer.__call__` method instead.\n",
      "WARNING:tensorflow:From /content/drive/My Drive/Development/DeepLabCut/deeplabcut/pose_estimation_tensorflow/nnet/pose_net.py:62: The name tf.variable_scope is deprecated. Please use tf.compat.v1.variable_scope instead.\n",
      "\n",
      "WARNING:tensorflow:From /content/drive/My Drive/Development/DeepLabCut/deeplabcut/pose_estimation_tensorflow/nnet/pose_net.py:160: The name tf.losses.sigmoid_cross_entropy is deprecated. Please use tf.compat.v1.losses.sigmoid_cross_entropy instead.\n",
      "\n",
      "WARNING:tensorflow:From /tensorflow-1.15.2/python3.6/tensorflow_core/python/ops/nn_impl.py:183: where (from tensorflow.python.ops.array_ops) is deprecated and will be removed in a future version.\n",
      "Instructions for updating:\n",
      "Use tf.where in 2.0, which has the same broadcast rule as np.where\n",
      "WARNING:tensorflow:From /content/drive/My Drive/Development/DeepLabCut/deeplabcut/pose_estimation_tensorflow/nnet/losses.py:38: to_float (from tensorflow.python.ops.math_ops) is deprecated and will be removed in a future version.\n",
      "Instructions for updating:\n",
      "Use `tf.cast` instead.\n",
      "Loading already trained DLC with backbone: resnet_50\n",
      "WARNING:tensorflow:From /content/drive/My Drive/Development/DeepLabCut/deeplabcut/pose_estimation_tensorflow/train.py:143: The name tf.ConfigProto is deprecated. Please use tf.compat.v1.ConfigProto instead.\n",
      "\n",
      "INFO:tensorflow:Restoring parameters from /content/drive/My Drive/Development/DeepLabCut/dev/dv88_left_teresmaj_pec-Phil-2020-06-09/dlc-models/iteration-2/dv88_left_teresmaj_pecJun9-trainset95shuffle1/train/snapshot-100000\n",
      "Max_iters overwritten as 50000\n",
      "Display_iters overwritten as 50\n",
      "Save_iters overwritten as 10000\n",
      "Training parameter:\n",
      "{'stride': 8.0, 'weigh_part_predictions': False, 'weigh_negatives': False, 'fg_fraction': 0.25, 'weigh_only_present_joints': False, 'mean_pixel': [123.68, 116.779, 103.939], 'shuffle': True, 'snapshot_prefix': '/content/drive/My Drive/Development/DeepLabCut/dev/dv88_left_teresmaj_pec-Phil-2020-06-09/dlc-models/iteration-2/dv88_left_teresmaj_pecJun9-trainset95shuffle1/train/snapshot', 'log_dir': 'log', 'global_scale': 1.0, 'location_refinement': True, 'locref_stdev': 7.2801, 'locref_loss_weight': 0.05, 'locref_huber_loss': True, 'optimizer': 'sgd', 'intermediate_supervision': False, 'intermediate_supervision_layer': 12, 'regularize': False, 'weight_decay': 0.0001, 'mirror': False, 'crop_pad': 0, 'scoremap_dir': 'test', 'batch_size': 3, 'dataset_type': 'imgaug', 'deterministic': False, 'crop': True, 'cropratio': 0.4, 'minsize': 100, 'leftwidth': 400, 'rightwidth': 400, 'topheight': 400, 'bottomheight': 400, 'all_joints': [[0], [1], [2], [3], [4], [5], [6], [7], [8], [9], [10], [11], [12], [13], [14], [15], [16], [17], [18], [19], [20], [21], [22], [23], [24], [25], [26], [27]], 'all_joints_names': ['Body_ds1_crn_cam1', 'Body_ds1_crn_cam2', 'Body_ds3_cdl_cam1', 'Body_ds3_cdl_cam2', 'Body_vn1_crn_cam1', 'Body_vn1_crn_cam2', 'Scapula_acr_cam1', 'Scapula_acr_cam2', 'Scapula_spi_cam1', 'Scapula_spi_cam2', 'Scapula_vtb_cam1', 'Scapula_vtb_cam2', 'Humerus_dpc_cam1', 'Humerus_dpc_cam2', 'Humerus_ent_cam1', 'Humerus_ent_cam2', 'Humerus_ect_cam1', 'Humerus_ect_cam2', 'Ulna_olc_cam1', 'Ulna_olc_cam2', 'Ulna_int_cam1', 'Ulna_int_cam2', 'Ulna_dst_cam1', 'Ulna_dst_cam2', 'Teres_prx_cam1', 'Teres_prx_cam2', 'Latdor_dst_cam1', 'Latdor_dst_cam2'], 'allchannelsclahe': True, 'augmentationprobability': 0.25, 'covering': True, 'dataset': 'training-datasets/iteration-2/UnaugmentedDataSet_dv88_left_teresmaj_pecJun9/dv88_left_teresmaj_pec_Phil95shuffle1.mat', 'display_iters': 1000, 'elastic_transform': False, 'gamma': True, 'hist_eq': True, 'init_weights': '/content/drive/My Drive/Development/DeepLabCut/dev/dv88_left_teresmaj_pec-Phil-2020-06-09/dlc-models/iteration-2/dv88_left_teresmaj_pecJun9-trainset95shuffle1/train/snapshot-100000', 'logcontrast': True, 'max_input_size': 1500, 'metadataset': 'training-datasets/iteration-2/UnaugmentedDataSet_dv88_left_teresmaj_pecJun9/Documentation_data-dv88_left_teresmaj_pec_95shuffle1.pickle', 'min_input_size': 64, 'motion_blur': False, 'multi_step': [[0.005, 10000], [0.02, 430000], [0.002, 730000], [0.001, 1030000]], 'net_type': 'resnet_50', 'num_joints': 28, 'pos_dist_thresh': 17, 'project_path': '/content/drive/My Drive/Development/DeepLabCut/dev/dv88_left_teresmaj_pec-Phil-2020-06-09', 'rotation': False, 'save_iters': 50000, 'scale_jitter_lo': 0.8, 'scale_jitter_up': 1.2, 'output_stride': 16, 'deconvolutionstride': 2}\n",
      "Starting training....\n"
     ]
    },
    {
     "name": "stderr",
     "output_type": "stream",
     "text": [
      "iteration: 50 loss: 0.0018 lr: 0.005\n",
      "iteration: 100 loss: 0.0017 lr: 0.005\n",
      "iteration: 150 loss: 0.0017 lr: 0.005\n",
      "iteration: 200 loss: 0.0018 lr: 0.005\n",
      "iteration: 250 loss: 0.0017 lr: 0.005\n",
      "iteration: 300 loss: 0.0017 lr: 0.005\n",
      "iteration: 350 loss: 0.0016 lr: 0.005\n",
      "iteration: 400 loss: 0.0017 lr: 0.005\n",
      "iteration: 450 loss: 0.0017 lr: 0.005\n",
      "iteration: 500 loss: 0.0017 lr: 0.005\n",
      "iteration: 550 loss: 0.0018 lr: 0.005\n",
      "iteration: 600 loss: 0.0018 lr: 0.005\n",
      "iteration: 650 loss: 0.0018 lr: 0.005\n",
      "iteration: 700 loss: 0.0017 lr: 0.005\n",
      "iteration: 750 loss: 0.0017 lr: 0.005\n",
      "iteration: 800 loss: 0.0018 lr: 0.005\n",
      "iteration: 850 loss: 0.0017 lr: 0.005\n",
      "iteration: 900 loss: 0.0017 lr: 0.005\n",
      "iteration: 950 loss: 0.0017 lr: 0.005\n",
      "iteration: 1000 loss: 0.0016 lr: 0.005\n",
      "iteration: 1050 loss: 0.0017 lr: 0.005\n",
      "iteration: 1100 loss: 0.0017 lr: 0.005\n",
      "iteration: 1150 loss: 0.0017 lr: 0.005\n",
      "iteration: 1200 loss: 0.0016 lr: 0.005\n",
      "iteration: 1250 loss: 0.0017 lr: 0.005\n",
      "iteration: 1300 loss: 0.0017 lr: 0.005\n",
      "iteration: 1350 loss: 0.0018 lr: 0.005\n",
      "iteration: 1400 loss: 0.0017 lr: 0.005\n",
      "iteration: 1450 loss: 0.0017 lr: 0.005\n",
      "iteration: 1500 loss: 0.0017 lr: 0.005\n",
      "iteration: 1550 loss: 0.0017 lr: 0.005\n",
      "iteration: 1600 loss: 0.0017 lr: 0.005\n",
      "iteration: 1650 loss: 0.0017 lr: 0.005\n",
      "iteration: 1700 loss: 0.0018 lr: 0.005\n",
      "iteration: 1750 loss: 0.0017 lr: 0.005\n",
      "iteration: 1800 loss: 0.0017 lr: 0.005\n",
      "iteration: 1850 loss: 0.0017 lr: 0.005\n",
      "iteration: 1900 loss: 0.0017 lr: 0.005\n"
     ]
    }
   ],
   "source": [
    "trainposeconfigfile,testposeconfigfile,snapshotfolder=model.dlc.return_train_network_path(config_path,1,0.95)\n",
    "cfg_dlc=model.dlc.auxiliaryfunctions.read_plainconfig(trainposeconfigfile)\n",
    "cfg_dlc['augmentationprobability']=0.25\n",
    "cfg_dlc['batch_size']=3\n",
    "cfg_dlc['hist_eq']=True\n",
    "cfg_dlc['gamma']=True\n",
    "cfg_dlc['logcontrast']=True\n",
    "cfg_dlc['allchannelsclahe']=True\n",
    "# cfg_dlc['optimizer'] =\"sgd\"\n",
    "cfg_dlc['dataset_type']='imgaug'\n",
    "# cfg_dlc['multi_step']=[[1e-4, 7500], [5*1e-5, 12000], [1e-5, 50000], [5e-6, 200000]]\n",
    "cfg_dlc['scale_jitter_lo'] = 0.8\n",
    "cfg_dlc['scale_jitter_up'] = 1.2\n",
    "cfg_dlc['global_scale'] = 1.0\n",
    "cfg_dlc['net_type']= 'resnet_50'\n",
    "cfg_dlc['intermediate_supervision']=False\n",
    "\n",
    "\n",
    "cfg_dlc['elastic_transform']=False\n",
    "cfg_dlc['rotation']=False\n",
    "cfg_dlc['covering']=True\n",
    "cfg_dlc['motion_blur'] = False\n",
    "\n",
    "\n",
    "# cfg_dlc['init_weights']= '/content/drive/My Drive/Development/DeepLabCut/deeplabcut/pose_estimation_tensorflow/models/pretrained/resnet_v1_50.ckpt'\n",
    "# cfg_dlc['init_weights']= '/content/drive/My Drive/Development/DeepLabCut/deeplabcut/pose_estimation_tensorflow/models/pretrained/resnet_v1_101.ckpt'\n",
    "# cfg_dlc['init_weights']= '/content/drive/My Drive/Development/DeepLabCut/deeplabcut/pose_estimation_tensorflow/models/pretrained/mobilenet_v2_1.0_224.ckpt'\n",
    "# cfg_dlc['init_weights']=model.getLatestSnapshot(snapshotfolder) # to resume from latest snapshot\n",
    "# cfg_dlc['init_weights']= '/content/drive/My Drive/Development/DeepLabCut/dev/possum101_11Apr-Phil-2020-04-13-diff/dlc-models/iteration-5/possum101_11AprApr13-trainset95shuffle1/train/snapshot-120000'\n",
    "# cfg_dlc['init_weights']= '/content/drive/My Drive/Development/DeepLabCut/dev/possum101right_biceps_triceps-Phil-2020-06-08/dlc-models/iteration-0/possum101right_biceps_tricepsJun8-trainset95shuffle1/train/snapshot-60000'\n",
    "cfg_dlc['init_weights']= '/content/drive/My Drive/Development/DeepLabCut/dev/dv88_left_teresmaj_pec-Phil-2020-06-09/dlc-models/iteration-2/dv88_left_teresmaj_pecJun9-trainset95shuffle1/train/snapshot-100000'\n",
    "\n",
    "\n",
    "model.dlc.auxiliaryfunctions.write_plainconfig(trainposeconfigfile,cfg_dlc)\n",
    "model.dlc.train_network(config_path, saveiters=10000,displayiters=50,maxiters=50000,max_snapshots_to_keep=15, allow_growth=True)"
   ]
  },
  {
   "cell_type": "code",
   "execution_count": null,
   "metadata": {
    "colab": {
     "base_uri": "https://localhost:8080/",
     "height": 17
    },
    "executionInfo": {
     "elapsed": 1959,
     "status": "ok",
     "timestamp": 1603484559722,
     "user": {
      "displayName": "Phil Fahn-Lai",
      "photoUrl": "https://lh3.googleusercontent.com/a-/AOh14GgaLRzhwWuE2_ZNOkUUkb6lkk-noGiIsb7ucOzW=s64",
      "userId": "13631433551768862211"
     },
     "user_tz": 240
    },
    "id": "wAXMTnu5Ge-F",
    "outputId": "490840b6-6693-4104-8433-7f970e1cde36"
   },
   "outputs": [
    {
     "data": {
      "text/html": [
       "\n",
       "  <style>\n",
       "    pre {\n",
       "        white-space: pre-wrap;\n",
       "    }\n",
       "  </style>\n",
       "  "
      ],
      "text/plain": [
       "<IPython.core.display.HTML object>"
      ]
     },
     "metadata": {
      "tags": []
     },
     "output_type": "display_data"
    }
   ],
   "source": [
    "trainposeconfigfile, testposeconfigfile, snapshotfolder = model.dlc.return_train_network_path(model.yaml, 1, model.config['TrainingFraction'][0])"
   ]
  },
  {
   "cell_type": "code",
   "execution_count": null,
   "metadata": {
    "colab": {
     "base_uri": "https://localhost:8080/",
     "height": 357
    },
    "executionInfo": {
     "elapsed": 252193,
     "status": "ok",
     "timestamp": 1603485005148,
     "user": {
      "displayName": "Phil Fahn-Lai",
      "photoUrl": "https://lh3.googleusercontent.com/a-/AOh14GgaLRzhwWuE2_ZNOkUUkb6lkk-noGiIsb7ucOzW=s64",
      "userId": "13631433551768862211"
     },
     "user_tz": 240
    },
    "id": "Gwe7n9M0GrSV",
    "outputId": "6716ad66-d498-43d7-8827-05769c77e34e"
   },
   "outputs": [
    {
     "data": {
      "text/html": [
       "\n",
       "  <style>\n",
       "    pre {\n",
       "        white-space: pre-wrap;\n",
       "    }\n",
       "  </style>\n",
       "  "
      ],
      "text/plain": [
       "<IPython.core.display.HTML object>"
      ]
     },
     "metadata": {
      "tags": []
     },
     "output_type": "display_data"
    },
    {
     "name": "stdout",
     "output_type": "stream",
     "text": [
      "/content/drive/My Drive/Development/DeepLabCut/dev/possum101_11Apr-Phil-2020-04-13-diff/evaluation-results/  already exists!\n",
      "/content/drive/My Drive/Development/DeepLabCut/dev/possum101_11Apr-Phil-2020-04-13-diff/evaluation-results/iteration-5/possum101_11AprApr13-trainset95shuffle1  already exists!\n",
      "Running  DLC_resnet101_possum101_11AprApr13shuffle1_20000  with # of trainingiterations: 20000\n",
      "Initializing ResNet\n",
      "INFO:tensorflow:Restoring parameters from /content/drive/My Drive/Development/DeepLabCut/dev/possum101_11Apr-Phil-2020-04-13-diff/dlc-models/iteration-5/possum101_11AprApr13-trainset95shuffle1/train/snapshot-20000\n"
     ]
    },
    {
     "name": "stderr",
     "output_type": "stream",
     "text": [
      "INFO:tensorflow:Restoring parameters from /content/drive/My Drive/Development/DeepLabCut/dev/possum101_11Apr-Phil-2020-04-13-diff/dlc-models/iteration-5/possum101_11AprApr13-trainset95shuffle1/train/snapshot-20000\n",
      "0it [00:00, ?it/s]"
     ]
    },
    {
     "name": "stdout",
     "output_type": "stream",
     "text": [
      "Analyzing data...\n"
     ]
    },
    {
     "name": "stderr",
     "output_type": "stream",
     "text": [
      "108it [02:07,  1.18s/it]\n",
      "  0%|          | 0/108 [00:00<?, ?it/s]"
     ]
    },
    {
     "name": "stdout",
     "output_type": "stream",
     "text": [
      "Done and results stored for snapshot:  snapshot-20000\n",
      "Results for 20000  training iterations: 95 1 train error: 1.45 pixels. Test error: 6.71  pixels.\n",
      "With pcutoff of 0.5  train error: 1.45 pixels. Test error: 5.05 pixels\n",
      "Thereby, the errors are given by the average distances between the labels by DLC and the scorer.\n",
      "Plotting...\n"
     ]
    },
    {
     "name": "stderr",
     "output_type": "stream",
     "text": [
      "100%|██████████| 108/108 [01:51<00:00,  1.03s/it]"
     ]
    },
    {
     "name": "stdout",
     "output_type": "stream",
     "text": [
      "The network is evaluated and the results are stored in the subdirectory 'evaluation_results'.\n",
      "If it generalizes well, choose the best model for prediction and update the config file with the appropriate index for the 'snapshotindex'.\n",
      "Use the function 'analyze_video' to make predictions on new videos.\n",
      "Otherwise consider retraining the network (see DeepLabCut workflow Fig 2)\n"
     ]
    },
    {
     "name": "stderr",
     "output_type": "stream",
     "text": [
      "\n"
     ]
    }
   ],
   "source": [
    "model.dlc.evaluate_network(config=model.yaml,Shuffles=[1],trainingsetindex=0, plotting=True,gputouse=0)"
   ]
  },
  {
   "cell_type": "code",
   "execution_count": 4,
   "metadata": {
    "colab": {
     "base_uri": "https://localhost:8080/",
     "height": 1000
    },
    "executionInfo": {
     "elapsed": 597686,
     "status": "ok",
     "timestamp": 1604422128607,
     "user": {
      "displayName": "Philip Fahn-Lai",
      "photoUrl": "",
      "userId": "09313744250411697868"
     },
     "user_tz": 300
    },
    "id": "PO29RI0BjLvW",
    "outputId": "b1ee50b9-5dd9-4083-e8c2-d6a7721505d3"
   },
   "outputs": [
    {
     "data": {
      "text/html": [
       "\n",
       "  <style>\n",
       "    pre {\n",
       "        white-space: pre-wrap;\n",
       "    }\n",
       "  </style>\n",
       "  "
      ],
      "text/plain": [
       "<IPython.core.display.HTML object>"
      ]
     },
     "metadata": {
      "tags": []
     },
     "output_type": "display_data"
    },
    {
     "data": {
      "image/png": "[encoded data removed]",
      "text/plain": [
       "<Figure size 576x288 with 2 Axes>"
      ]
     },
     "metadata": {
      "needs_background": "light",
      "tags": []
     },
     "output_type": "display_data"
    },
    {
     "name": "stdout",
     "output_type": "stream",
     "text": [
      "WARNING:tensorflow:From /content/drive/My Drive/Development/DeepLabCut/deeplabcut/pose_estimation_tensorflow/evaluate.py:242: The name tf.reset_default_graph is deprecated. Please use tf.compat.v1.reset_default_graph instead.\n",
      "\n",
      "/content/drive/My Drive/Development/DeepLabCut/dev/possum101_11Apr-Phil-2020-04-13-diff/evaluation-results/  already exists!\n",
      "/content/drive/My Drive/Development/DeepLabCut/dev/possum101_11Apr-Phil-2020-04-13-diff/evaluation-results/iteration-5/possum101_11AprApr13-trainset95shuffle1  already exists!\n",
      "Running  DLC_resnet50_possum101_11AprApr13shuffle1_30000  with # of trainingiterations: 30000\n",
      "Initializing ResNet\n",
      "WARNING:tensorflow:From /tensorflow-1.15.2/python3.6/tensorflow_core/contrib/layers/python/layers/layers.py:1057: Layer.apply (from tensorflow.python.keras.engine.base_layer) is deprecated and will be removed in a future version.\n",
      "Instructions for updating:\n",
      "Please use `layer.__call__` method instead.\n"
     ]
    },
    {
     "name": "stderr",
     "output_type": "stream",
     "text": [
      "WARNING:tensorflow:From /tensorflow-1.15.2/python3.6/tensorflow_core/contrib/layers/python/layers/layers.py:1057: Layer.apply (from tensorflow.python.keras.engine.base_layer) is deprecated and will be removed in a future version.\n",
      "Instructions for updating:\n",
      "Please use `layer.__call__` method instead.\n"
     ]
    },
    {
     "name": "stdout",
     "output_type": "stream",
     "text": [
      "WARNING:tensorflow:From /content/drive/My Drive/Development/DeepLabCut/deeplabcut/pose_estimation_tensorflow/nnet/pose_net.py:62: The name tf.variable_scope is deprecated. Please use tf.compat.v1.variable_scope instead.\n",
      "\n"
     ]
    },
    {
     "name": "stderr",
     "output_type": "stream",
     "text": [
      "WARNING:tensorflow:From /content/drive/My Drive/Development/DeepLabCut/deeplabcut/pose_estimation_tensorflow/nnet/pose_net.py:62: The name tf.variable_scope is deprecated. Please use tf.compat.v1.variable_scope instead.\n",
      "\n"
     ]
    },
    {
     "name": "stdout",
     "output_type": "stream",
     "text": [
      "INFO:tensorflow:Restoring parameters from /content/drive/My Drive/Development/DeepLabCut/dev/possum101_11Apr-Phil-2020-04-13-diff/dlc-models/iteration-5/possum101_11AprApr13-trainset95shuffle1/train/snapshot-30000\n"
     ]
    },
    {
     "name": "stderr",
     "output_type": "stream",
     "text": [
      "INFO:tensorflow:Restoring parameters from /content/drive/My Drive/Development/DeepLabCut/dev/possum101_11Apr-Phil-2020-04-13-diff/dlc-models/iteration-5/possum101_11AprApr13-trainset95shuffle1/train/snapshot-30000\n",
      "0it [00:00, ?it/s]"
     ]
    },
    {
     "name": "stdout",
     "output_type": "stream",
     "text": [
      "Analyzing data...\n"
     ]
    },
    {
     "name": "stderr",
     "output_type": "stream",
     "text": [
      "108it [01:41,  1.07it/s]\n",
      "  0%|          | 0/108 [00:00<?, ?it/s]"
     ]
    },
    {
     "name": "stdout",
     "output_type": "stream",
     "text": [
      "Done and results stored for snapshot:  snapshot-30000\n",
      "Results for 30000  training iterations: 95 1 train error: 3.19 pixels. Test error: 12.68  pixels.\n",
      "With pcutoff of 0.5  train error: 3.19 pixels. Test error: 5.93 pixels\n",
      "Thereby, the errors are given by the average distances between the labels by DLC and the scorer.\n",
      "Plotting...\n"
     ]
    },
    {
     "name": "stderr",
     "output_type": "stream",
     "text": [
      "100%|██████████| 108/108 [01:47<00:00,  1.00it/s]\n",
      "/content/drive/My Drive/Development/DeepLabCut/deadROMM/possumPolish.py:311: UnsafeLoaderWarning: \n",
      "The default 'Loader' for 'load(stream)' without further arguments can be unsafe.\n",
      "Use 'load(stream, Loader=ruamel.yaml.Loader)' explicitly if that is OK.\n",
      "Alternatively include the following in your code:\n",
      "\n",
      "  import warnings\n",
      "  warnings.simplefilter('ignore', ruamel.yaml.error.UnsafeLoaderWarning)\n",
      "\n",
      "In most other cases you should consider using 'safe_load(stream)'\n",
      "  self.config = ruamel.yaml.load(open(self.yaml))\n"
     ]
    },
    {
     "name": "stdout",
     "output_type": "stream",
     "text": [
      "The network is evaluated and the results are stored in the subdirectory 'evaluation_results'.\n",
      "If it generalizes well, choose the best model for prediction and update the config file with the appropriate index for the 'snapshotindex'.\n",
      "Use the function 'analyze_video' to make predictions on new videos.\n",
      "Otherwise consider retraining the network (see DeepLabCut workflow Fig 2)\n",
      "Function <function evaluate_network at 0x7f79b19bc048> created 110 new files in directory ./dev/possum101_11Apr-Phil-2020-04-13-diff/evaluation-results\n",
      "Updated config.yaml with event evaluation at 03Nov20_16h38m54s\n",
      "Using snapshot-30000 for model /content/drive/My Drive/Development/DeepLabCut/dev/possum101_11Apr-Phil-2020-04-13-diff/dlc-models/iteration-5/possum101_11AprApr13-trainset95shuffle1\n",
      "WARNING:tensorflow:From /content/drive/My Drive/Development/DeepLabCut/deeplabcut/pose_estimation_tensorflow/nnet/predict.py:187: The name tf.placeholder is deprecated. Please use tf.compat.v1.placeholder instead.\n",
      "\n"
     ]
    },
    {
     "name": "stderr",
     "output_type": "stream",
     "text": [
      "WARNING:tensorflow:From /content/drive/My Drive/Development/DeepLabCut/deeplabcut/pose_estimation_tensorflow/nnet/predict.py:187: The name tf.placeholder is deprecated. Please use tf.compat.v1.placeholder instead.\n",
      "\n"
     ]
    },
    {
     "name": "stdout",
     "output_type": "stream",
     "text": [
      "Initializing ResNet\n",
      "WARNING:tensorflow:From /content/drive/My Drive/Development/DeepLabCut/deeplabcut/pose_estimation_tensorflow/nnet/predict.py:191: The name tf.train.Saver is deprecated. Please use tf.compat.v1.train.Saver instead.\n",
      "\n"
     ]
    },
    {
     "name": "stderr",
     "output_type": "stream",
     "text": [
      "WARNING:tensorflow:From /content/drive/My Drive/Development/DeepLabCut/deeplabcut/pose_estimation_tensorflow/nnet/predict.py:191: The name tf.train.Saver is deprecated. Please use tf.compat.v1.train.Saver instead.\n",
      "\n"
     ]
    },
    {
     "name": "stdout",
     "output_type": "stream",
     "text": [
      "WARNING:tensorflow:From /content/drive/My Drive/Development/DeepLabCut/deeplabcut/pose_estimation_tensorflow/nnet/predict.py:192: The name tf.Session is deprecated. Please use tf.compat.v1.Session instead.\n",
      "\n"
     ]
    },
    {
     "name": "stderr",
     "output_type": "stream",
     "text": [
      "WARNING:tensorflow:From /content/drive/My Drive/Development/DeepLabCut/deeplabcut/pose_estimation_tensorflow/nnet/predict.py:192: The name tf.Session is deprecated. Please use tf.compat.v1.Session instead.\n",
      "\n"
     ]
    },
    {
     "name": "stdout",
     "output_type": "stream",
     "text": [
      "WARNING:tensorflow:From /content/drive/My Drive/Development/DeepLabCut/deeplabcut/pose_estimation_tensorflow/nnet/predict.py:194: The name tf.global_variables_initializer is deprecated. Please use tf.compat.v1.global_variables_initializer instead.\n",
      "\n"
     ]
    },
    {
     "name": "stderr",
     "output_type": "stream",
     "text": [
      "WARNING:tensorflow:From /content/drive/My Drive/Development/DeepLabCut/deeplabcut/pose_estimation_tensorflow/nnet/predict.py:194: The name tf.global_variables_initializer is deprecated. Please use tf.compat.v1.global_variables_initializer instead.\n",
      "\n"
     ]
    },
    {
     "name": "stdout",
     "output_type": "stream",
     "text": [
      "WARNING:tensorflow:From /content/drive/My Drive/Development/DeepLabCut/deeplabcut/pose_estimation_tensorflow/nnet/predict.py:195: The name tf.local_variables_initializer is deprecated. Please use tf.compat.v1.local_variables_initializer instead.\n",
      "\n"
     ]
    },
    {
     "name": "stderr",
     "output_type": "stream",
     "text": [
      "WARNING:tensorflow:From /content/drive/My Drive/Development/DeepLabCut/deeplabcut/pose_estimation_tensorflow/nnet/predict.py:195: The name tf.local_variables_initializer is deprecated. Please use tf.compat.v1.local_variables_initializer instead.\n",
      "\n"
     ]
    },
    {
     "name": "stdout",
     "output_type": "stream",
     "text": [
      "INFO:tensorflow:Restoring parameters from /content/drive/My Drive/Development/DeepLabCut/dev/possum101_11Apr-Phil-2020-04-13-diff/dlc-models/iteration-5/possum101_11AprApr13-trainset95shuffle1/train/snapshot-30000\n"
     ]
    },
    {
     "name": "stderr",
     "output_type": "stream",
     "text": [
      "INFO:tensorflow:Restoring parameters from /content/drive/My Drive/Development/DeepLabCut/dev/possum101_11Apr-Phil-2020-04-13-diff/dlc-models/iteration-5/possum101_11AprApr13-trainset95shuffle1/train/snapshot-30000\n"
     ]
    },
    {
     "name": "stdout",
     "output_type": "stream",
     "text": [
      "Starting to analyze %  ./videos/11Apr_diff.mp4\n",
      "Loading  ./videos/11Apr_diff.mp4\n"
     ]
    },
    {
     "name": "stderr",
     "output_type": "stream",
     "text": [
      "  0%|          | 0/7904 [00:00<?, ?it/s]"
     ]
    },
    {
     "name": "stdout",
     "output_type": "stream",
     "text": [
      "Duration of video [s]:  263.47 , recorded with  30.0 fps!\n",
      "Overall # of frames:  7904  found with (before cropping) frame dimensions:  1024 1024\n",
      "Starting to extract posture\n"
     ]
    },
    {
     "name": "stderr",
     "output_type": "stream",
     "text": [
      "7979it [05:51, 22.72it/s]"
     ]
    },
    {
     "name": "stdout",
     "output_type": "stream",
     "text": [
      "Detected frames:  7904\n",
      "Saving results in videos...\n",
      "Saving csv poses!\n"
     ]
    },
    {
     "name": "stderr",
     "output_type": "stream",
     "text": [
      "\n"
     ]
    },
    {
     "name": "stdout",
     "output_type": "stream",
     "text": [
      "The videos are analyzed. Now your research can truly start! \n",
      " You can create labeled videos with 'create_labeled_video'.\n",
      "If the tracking is not satisfactory for some videos, consider expanding the training set. You can use the function 'extract_outlier_frames' to extract any outlier frames!\n",
      "Function <function analyze_videos at 0x7f79b19bc2f0> created 3 new files in directory ./videos\n",
      "Updated config.yaml with event analysis at 03Nov20_16h42m47s\n"
     ]
    }
   ],
   "source": [
    "model.evaluateAndAnalyze()\n",
    "# model.getOutliers(30, outlier_algo='jump') \n",
    "alert_done()"
   ]
  },
  {
   "cell_type": "code",
   "execution_count": 3,
   "metadata": {
    "colab": {
     "base_uri": "https://localhost:8080/",
     "height": 221
    },
    "executionInfo": {
     "elapsed": 5519,
     "status": "ok",
     "timestamp": 1604508776843,
     "user": {
      "displayName": "Philip Fahn-Lai",
      "photoUrl": "",
      "userId": "09313744250411697868"
     },
     "user_tz": 300
    },
    "id": "cD6SxifGFRG2",
    "outputId": "472ccb60-4194-4a58-dfec-ada1a113c3c0"
   },
   "outputs": [
    {
     "data": {
      "text/html": [
       "\n",
       "  <style>\n",
       "    pre {\n",
       "        white-space: pre-wrap;\n",
       "    }\n",
       "  </style>\n",
       "  "
      ],
      "text/plain": [
       "<IPython.core.display.HTML object>"
      ]
     },
     "metadata": {
      "tags": []
     },
     "output_type": "display_data"
    },
    {
     "name": "stdout",
     "output_type": "stream",
     "text": [
      "Successfully split DLC format to XMALab 2D points; saved ./videos/11Apr_diffDLC_resnet50_possum101_11AprApr13shuffle1_30000_every10_split__p0.01_04Nov20_16h52m51s.csv\n"
     ]
    },
    {
     "name": "stderr",
     "output_type": "stream",
     "text": [
      "/content/drive/My Drive/Development/DeepLabCut/deadROMM/possumPolish.py:311: UnsafeLoaderWarning: \n",
      "The default 'Loader' for 'load(stream)' without further arguments can be unsafe.\n",
      "Use 'load(stream, Loader=ruamel.yaml.Loader)' explicitly if that is OK.\n",
      "Alternatively include the following in your code:\n",
      "\n",
      "  import warnings\n",
      "  warnings.simplefilter('ignore', ruamel.yaml.error.UnsafeLoaderWarning)\n",
      "\n",
      "In most other cases you should consider using 'safe_load(stream)'\n",
      "  self.config = ruamel.yaml.load(open(self.yaml))\n"
     ]
    },
    {
     "name": "stdout",
     "output_type": "stream",
     "text": [
      "Updated config.yaml with event splitDlc2Xma at 04Nov20_16h52m54s\n"
     ]
    }
   ],
   "source": [
    "final_frames = model.splitDlc2Xma('./videos/11Apr_diffDLC_resnet50_possum101_11AprApr13shuffle1_30000.h5',model.markers,interval=10, likelihood_threshold=0.01)\n",
    "# final_frames = model.splitDlc2Xma('./videos/11Apr_diffDLC_resnet50_possum101_11AprApr13shuffle1_20000.h5',model.markers,interval=10, likelihood_threshold=0.0027)\n",
    "# final_frames = model.splitDlc2Xma('./videos/11Apr_diffDLC_resnet50_possum101_11AprApr13shuffle1_20000.h5',model.markers,interval=10, likelihood_threshold=0.0455)\n",
    "# final_frames = model.splitDlc2Xma('./videos/11Apr_diffDLC_resnet50_possum101_11AprApr13shuffle1_20000.h5',model.markers,interval=10, likelihood_threshold=0.3173)"
   ]
  },
  {
   "cell_type": "markdown",
   "metadata": {
    "id": "SAs69CtTVdDp"
   },
   "source": [
    "## 3. Ready to analyze?\n",
    "first create a labeled video to check model performance"
   ]
  },
  {
   "cell_type": "code",
   "execution_count": null,
   "metadata": {
    "colab": {
     "base_uri": "https://localhost:8080/",
     "height": 1000
    },
    "executionInfo": {
     "elapsed": 684055,
     "status": "ok",
     "timestamp": 1602101762655,
     "user": {
      "displayName": "Philip Fahn-Lai",
      "photoUrl": "https://lh3.googleusercontent.com/a-/AOh14Gh9uuEEgXxA1VS_YNcnrMdKmmjLXXXNKKuhJEMLYtx2SpAtXmanJ9mm9UdW7SYwmg8dFFPW4aZMJpXVxzPnbNhV-w0fN_u1iCZ08-NmhS7igTl0IqrN4rlzSw6ZuCesFWGBhS4pZjFM-waTnky6imjPZ3yneykK7wvr1WayQ-7n4B9lyDV9IzRpspppFyRXyxdkXdcE2sAr_4Mbm8aXXUEyhtyWDJRS9Z0fcrpbxA6vAfUP2ZB-5IoxbkOH4cDI40q9ZpAF2hYPdZQOuvSH2VZlwxLHTbDFhbKwPR8yhM9WMj1uaLQDcs1w2j-_M6TMf90jctjf26jciKiujYc8tCXQTzOxTBDCfgZJlBysw907gX5J3roPIYISdLlclehFtTe3SYf-cF7pi_AAPoDnDjiYsbCSizFZ_EQs65OCbpi90TBOUnpBXAOw8_rpgazyGMmMd9QQ-JswwNcYXqSc3Qr0Amdv2lxfhl6LzEuVSZvVV0DaaPeIf2uKUwZU_LAv95po8PdInTOOZMEshYIxWOqGvqI64EJ4OtkvNLaxE38YfJPMLV3-XFwMzzGBj0kESRM9XXtuzewzKUwY6xQKbE8l3nmatdN2e93Hoqaxpdjf4SmoO68CLXgqXXqH2GahFXLRkVobAHLXsMPGMtoiR56WmUbvREaAS-3L_p462aHMjCwdYD5IwXUf50PcdyAwyrxTi9Qfh4x7rks0Vu3bymq9WOaSidxaXefGtfaMPm5OabznobnmoYCE4q2dMGaaq9Fbsw=s64",
      "userId": "15346657382078925700"
     },
     "user_tz": 240
    },
    "id": "tBKBn2QiwVit",
    "outputId": "6fa7cc0c-d00a-4f2b-8f32-23eec31c2f1b"
   },
   "outputs": [
    {
     "data": {
      "text/html": [
       "\n",
       "  <style>\n",
       "    pre {\n",
       "        white-space: pre-wrap;\n",
       "    }\n",
       "  </style>\n",
       "  "
      ],
      "text/plain": [
       "<IPython.core.display.HTML object>"
      ]
     },
     "metadata": {
      "tags": []
     },
     "output_type": "display_data"
    },
    {
     "data": {
      "image/png": "[encoded data removed]",
      "text/plain": [
       "<Figure size 576x288 with 2 Axes>"
      ]
     },
     "metadata": {
      "needs_background": "light",
      "tags": []
     },
     "output_type": "display_data"
    },
    {
     "name": "stdout",
     "output_type": "stream",
     "text": [
      "/content/drive/My Drive/Development/DeepLabCut/dev/possum101_11Apr-Phil-2020-04-13-diff/evaluation-results/  already exists!\n",
      "/content/drive/My Drive/Development/DeepLabCut/dev/possum101_11Apr-Phil-2020-04-13-diff/evaluation-results/iteration-5/possum101_11AprApr13-trainset95shuffle1  already exists!\n",
      "Running  DLC_resnet50_possum101_11AprApr13shuffle1_60000  with # of trainingiterations: 60000\n",
      "Initializing ResNet\n",
      "INFO:tensorflow:Restoring parameters from /content/drive/My Drive/Development/DeepLabCut/dev/possum101_11Apr-Phil-2020-04-13-diff/dlc-models/iteration-5/possum101_11AprApr13-trainset95shuffle1/train/snapshot-60000\n"
     ]
    },
    {
     "name": "stderr",
     "output_type": "stream",
     "text": [
      "INFO:tensorflow:Restoring parameters from /content/drive/My Drive/Development/DeepLabCut/dev/possum101_11Apr-Phil-2020-04-13-diff/dlc-models/iteration-5/possum101_11AprApr13-trainset95shuffle1/train/snapshot-60000\n",
      "0it [00:00, ?it/s]"
     ]
    },
    {
     "name": "stdout",
     "output_type": "stream",
     "text": [
      "Analyzing data...\n"
     ]
    },
    {
     "name": "stderr",
     "output_type": "stream",
     "text": [
      "108it [00:10, 10.41it/s]\n",
      "  0%|          | 0/108 [00:00<?, ?it/s]"
     ]
    },
    {
     "name": "stdout",
     "output_type": "stream",
     "text": [
      "Done and results stored for snapshot:  snapshot-60000\n",
      "Results for 60000  training iterations: 95 1 train error: 2.45 pixels. Test error: 5.74  pixels.\n",
      "With pcutoff of 0.5  train error: 2.45 pixels. Test error: 4.29 pixels\n",
      "Thereby, the errors are given by the average distances between the labels by DLC and the scorer.\n",
      "Plotting...\n",
      "/content/drive/My Drive/Development/DeepLabCut/dev/possum101_11Apr-Phil-2020-04-13-diff/evaluation-results/iteration-5/possum101_11AprApr13-trainset95shuffle1/LabeledImages_DLC_resnet50_possum101_11AprApr13shuffle1_60000_snapshot-60000  already exists!\n"
     ]
    },
    {
     "name": "stderr",
     "output_type": "stream",
     "text": [
      "100%|██████████| 108/108 [02:59<00:00,  1.66s/it]\n",
      "/content/drive/My Drive/Development/DeepLabCut/deadROMM/possumPolish.py:287: UnsafeLoaderWarning: \n",
      "The default 'Loader' for 'load(stream)' without further arguments can be unsafe.\n",
      "Use 'load(stream, Loader=ruamel.yaml.Loader)' explicitly if that is OK.\n",
      "Alternatively include the following in your code:\n",
      "\n",
      "  import warnings\n",
      "  warnings.simplefilter('ignore', ruamel.yaml.error.UnsafeLoaderWarning)\n",
      "\n",
      "In most other cases you should consider using 'safe_load(stream)'\n",
      "  self.config = ruamel.yaml.load(open(self.yaml))\n"
     ]
    },
    {
     "name": "stdout",
     "output_type": "stream",
     "text": [
      "The network is evaluated and the results are stored in the subdirectory 'evaluation_results'.\n",
      "If it generalizes well, choose the best model for prediction and update the config file with the appropriate index for the 'snapshotindex'.\n",
      "Use the function 'analyze_video' to make predictions on new videos.\n",
      "Otherwise consider retraining the network (see DeepLabCut workflow Fig 2)\n",
      "Function <function evaluate_network at 0x7f3c04f98510> created 42 new files in directory ./dev/possum101_11Apr-Phil-2020-04-13-diff/evaluation-results\n",
      "Updated config.yaml with event evaluation at 07Oct20_20h04m39s\n",
      "Using snapshot-60000 for model /content/drive/My Drive/Development/DeepLabCut/dev/possum101_11Apr-Phil-2020-04-13-diff/dlc-models/iteration-5/possum101_11AprApr13-trainset95shuffle1\n",
      "Initializing ResNet\n",
      "INFO:tensorflow:Restoring parameters from /content/drive/My Drive/Development/DeepLabCut/dev/possum101_11Apr-Phil-2020-04-13-diff/dlc-models/iteration-5/possum101_11AprApr13-trainset95shuffle1/train/snapshot-60000\n"
     ]
    },
    {
     "name": "stderr",
     "output_type": "stream",
     "text": [
      "INFO:tensorflow:Restoring parameters from /content/drive/My Drive/Development/DeepLabCut/dev/possum101_11Apr-Phil-2020-04-13-diff/dlc-models/iteration-5/possum101_11AprApr13-trainset95shuffle1/train/snapshot-60000\n",
      "  0%|          | 0/7904 [00:00<?, ?it/s]"
     ]
    },
    {
     "name": "stdout",
     "output_type": "stream",
     "text": [
      "Starting to analyze %  ./videos/11Apr_diff.mp4\n",
      "Loading  ./videos/11Apr_diff.mp4\n",
      "Duration of video [s]:  263.47 , recorded with  30.0 fps!\n",
      "Overall # of frames:  7904  found with (before cropping) frame dimensions:  1024 1024\n",
      "Starting to extract posture\n"
     ]
    },
    {
     "name": "stderr",
     "output_type": "stream",
     "text": [
      "7979it [05:51, 22.72it/s]"
     ]
    },
    {
     "name": "stdout",
     "output_type": "stream",
     "text": [
      "Detected frames:  7904\n",
      "Saving results in videos...\n",
      "Saving csv poses!\n"
     ]
    },
    {
     "name": "stderr",
     "output_type": "stream",
     "text": [
      "\n"
     ]
    },
    {
     "name": "stdout",
     "output_type": "stream",
     "text": [
      "The videos are analyzed. Now your research can truly start! \n",
      " You can create labeled videos with 'create_labeled_video'.\n",
      "If the tracking is not satisfactory for some videos, consider expanding the training set. You can use the function 'extract_outlier_frames' to extract any outlier frames!\n",
      "Function <function analyze_videos at 0x7f3c04f987b8> created 3 new files in directory ./videos\n",
      "Updated config.yaml with event analysis at 07Oct20_20h07m58s\n"
     ]
    },
    {
     "name": "stderr",
     "output_type": "stream",
     "text": [
      "  0%|          | 0/7904 [00:00<?, ?it/s]"
     ]
    },
    {
     "name": "stdout",
     "output_type": "stream",
     "text": [
      "Starting %  /content/drive/My Drive/Development/DeepLabCut/videos ['/content/drive/My Drive/Development/DeepLabCut/videos/11Apr_diff.mp4']\n",
      "Loading  /content/drive/My Drive/Development/DeepLabCut/videos/11Apr_diff.mp4 and data.\n",
      "7904\n",
      "Duration of video [s]:  263.47 , recorded with  30.0 fps!\n",
      "Overall # of frames:  7904 with cropped frame dimensions:  1024 1024\n",
      "Generating frames and creating video.\n"
     ]
    },
    {
     "name": "stderr",
     "output_type": "stream",
     "text": [
      "100%|██████████| 7904/7904 [02:03<00:00, 64.05it/s]\n"
     ]
    }
   ],
   "source": [
    "model.evaluateAndAnalyze()\n",
    "model.dlc.create_labeled_video('./dev/possum101_11Apr-Phil-2020-04-13-diff/config.yaml', ['/content/drive/My Drive/Development/DeepLabCut/videos/11Apr_diff.mp4'])"
   ]
  },
  {
   "cell_type": "markdown",
   "metadata": {
    "id": "OUI8U_X3VjvO"
   },
   "source": [
    "Next create final digitizing dataset for XMALab, downsampling and compressing as needed"
   ]
  },
  {
   "cell_type": "code",
   "execution_count": null,
   "metadata": {
    "colab": {
     "base_uri": "https://localhost:8080/",
     "height": 230
    },
    "executionInfo": {
     "elapsed": 2837,
     "status": "ok",
     "timestamp": 1603237674122,
     "user": {
      "displayName": "Philip Fahn-Lai",
      "photoUrl": "",
      "userId": "09313744250411697868"
     },
     "user_tz": 240
    },
    "id": "K7jaY1XvjPEL",
    "outputId": "1aec3418-efde-4bf0-8ba1-239a03691c41"
   },
   "outputs": [],
   "source": [
    "# %cd ..\n",
    "# final_frames = model.splitDlc2Xma('./videos/11Apr_diffDLC_resnet50_possum101_11AprApr13shuffle1_40000.h5',model.markers,interval=10, likelihood_threshold=0.5)\n",
    "# final_frames = model.splitDlc2Xma('./videos/11Apr_diffDLC_resnet50_possum101_11AprApr13shuffle1_40000.h5',model.markers,interval=10, likelihood_threshold=0.8)\n",
    "final_frames = model.splitDlc2Xma('./videos/11Apr_diffDLC_resnet50_possum101_11AprApr13shuffle1_100000.h5',model.markers,interval=10, likelihood_threshold=0.01)\n",
    "# final_frames = model.splitDlc2Xma('./dev/possum101_11Apr-Phil-2020-04-13-diff/xma/11Aprfinal_allaugs_150k/11Apr_diffDLC_resnet50_possum101_11AprApr13shuffle1_20000.h5',model.markers,interval=10, likelihood_threshold=0.01)\n",
    "# final_frames = model.splitDlc2Xma('./dev/possum101_11Apr-Phil-2020-04-13-diff/xma/11Aprfinal_allaugs_210k/11Apr_diffDLC_resnet50_possum101_11AprApr13shuffle1_40000.h5',model.markers,interval=10, likelihood_threshold=0.01)\n",
    "\n",
    "\n",
    "# model.extractMatchedFrames([0,\n",
    "#  10,\n",
    "#  20,\n",
    "#  30,\n",
    "#  40,\n",
    "#  50,\n",
    "#  60,\n",
    "#  70,\n",
    "#  80,\n",
    "#  90,\n",
    "#  100,\n",
    "#  110,\n",
    "#  120,\n",
    "#  130,\n",
    "#  140,\n",
    "#  150,\n",
    "#  160,\n",
    "#  170,\n",
    "#  180,\n",
    "#  190,\n",
    "#  200,\n",
    "#  210,\n",
    "#  220,\n",
    "#  230,\n",
    "#  240,\n",
    "#  250,\n",
    "#  260,\n",
    "#  270,\n",
    "#  280,\n",
    "#  290,\n",
    "#  300,\n",
    "#  310,\n",
    "#  320,\n",
    "#  330,\n",
    "#  340,\n",
    "#  350,\n",
    "#  360,\n",
    "#  370,\n",
    "#  380,\n",
    "#  390,\n",
    "#  400,\n",
    "#  410,\n",
    "#  420,\n",
    "#  430,\n",
    "#  440,\n",
    "#  450,\n",
    "#  460,\n",
    "#  470,\n",
    "#  480,\n",
    "#  490,\n",
    "#  500,\n",
    "#  510,\n",
    "#  520,\n",
    "#  530,\n",
    "#  540,\n",
    "#  550,\n",
    "#  560,\n",
    "#  570,\n",
    "#  580,\n",
    "#  590,\n",
    "#  600,\n",
    "#  610,\n",
    "#  620,\n",
    "#  630,\n",
    "#  640,\n",
    "#  650,\n",
    "#  660,\n",
    "#  670,\n",
    "#  680,\n",
    "#  690,\n",
    "#  700,\n",
    "#  710,\n",
    "#  720,\n",
    "#  730,\n",
    "#  740,\n",
    "#  750,\n",
    "#  760,\n",
    "#  770,\n",
    "#  780,\n",
    "#  790,\n",
    "#  800,\n",
    "#  810,\n",
    "#  820,\n",
    "#  830,\n",
    "#  840,\n",
    "#  850,\n",
    "#  860,\n",
    "#  870,\n",
    "#  880,\n",
    "#  890,\n",
    "#  900,\n",
    "#  910,\n",
    "#  920,\n",
    "#  930,\n",
    "#  940,\n",
    "#  950,\n",
    "#  960,\n",
    "#  970,\n",
    "#  980,\n",
    "#  990,\n",
    "#  1000,\n",
    "#  1010,\n",
    "#  1020,\n",
    "#  1030,\n",
    "#  1040,\n",
    "#  1050,\n",
    "#  1060,\n",
    "#  1070,\n",
    "#  1080,\n",
    "#  1090,\n",
    "#  1100,\n",
    "#  1110,\n",
    "#  1120,\n",
    "#  1130,\n",
    "#  1140,\n",
    "#  1150,\n",
    "#  1160,\n",
    "#  1170,\n",
    "#  1180,\n",
    "#  1190,\n",
    "#  1200,\n",
    "#  1210,\n",
    "#  1220,\n",
    "#  1230,\n",
    "#  1240,\n",
    "#  1250,\n",
    "#  1260,\n",
    "#  1270,\n",
    "#  1280,\n",
    "#  1290,\n",
    "#  1300,\n",
    "#  1310,\n",
    "#  1320,\n",
    "#  1330,\n",
    "#  1340,\n",
    "#  1350,\n",
    "#  1360,\n",
    "#  1370,\n",
    "#  1380,\n",
    "#  1390,\n",
    "#  1400,\n",
    "#  1410,\n",
    "#  1420,\n",
    "#  1430,\n",
    "#  1440,\n",
    "#  1450,\n",
    "#  1460,\n",
    "#  1470,\n",
    "#  1480,\n",
    "#  1490,\n",
    "#  1500,\n",
    "#  1510,\n",
    "#  1520,\n",
    "#  1530,\n",
    "#  1540,\n",
    "#  1550,\n",
    "#  1560,\n",
    "#  1570,\n",
    "#  1580,\n",
    "#  1590,\n",
    "#  1600,\n",
    "#  1610,\n",
    "#  1620,\n",
    "#  1630,\n",
    "#  1640,\n",
    "#  1650,\n",
    "#  1660,\n",
    "#  1670,\n",
    "#  1680,\n",
    "#  1690,\n",
    "#  1700,\n",
    "#  1710,\n",
    "#  1720,\n",
    "#  1730,\n",
    "#  1740,\n",
    "#  1750,\n",
    "#  1760,\n",
    "#  1770,\n",
    "#  1780,\n",
    "#  1790,\n",
    "#  1800,\n",
    "#  1810,\n",
    "#  1820,\n",
    "#  1830,\n",
    "#  1840,\n",
    "#  1850,\n",
    "#  1860,\n",
    "#  1870,\n",
    "#  1880,\n",
    "#  1890,\n",
    "#  1900,\n",
    "#  1910,\n",
    "#  1920,\n",
    "#  1930,\n",
    "#  1940,\n",
    "#  1950,\n",
    "#  1960,\n",
    "#  1970,\n",
    "#  1980,\n",
    "#  1990,\n",
    "#  2000,\n",
    "#  2010,\n",
    "#  2020,\n",
    "#  2030,\n",
    "#  2040,\n",
    "#  2050,\n",
    "#  2060,\n",
    "#  2070,\n",
    "#  2080,\n",
    "#  2090,\n",
    "#  2100,\n",
    "#  2110,\n",
    "#  2120,\n",
    "#  2130,\n",
    "#  2140,\n",
    "#  2150,\n",
    "#  2160,\n",
    "#  2170,\n",
    "#  2180,\n",
    "#  2190,\n",
    "#  2200,\n",
    "#  2210,\n",
    "#  2220,\n",
    "#  2230,\n",
    "#  2240,\n",
    "#  2250,\n",
    "#  2260,\n",
    "#  2270,\n",
    "#  2280,\n",
    "#  2290,\n",
    "#  2300,\n",
    "#  2310,\n",
    "#  2320,\n",
    "#  2330,\n",
    "#  2340,\n",
    "#  2350,\n",
    "#  2360,\n",
    "#  2370,\n",
    "#  2380,\n",
    "#  2390,\n",
    "#  2400,\n",
    "#  2410,\n",
    "#  2420,\n",
    "#  2430,\n",
    "#  2440,\n",
    "#  2450,\n",
    "#  2460,\n",
    "#  2470,\n",
    "#  2480,\n",
    "#  2490,\n",
    "#  2500,\n",
    "#  2510,\n",
    "#  2520,\n",
    "#  2530,\n",
    "#  2540,\n",
    "#  2550,\n",
    "#  2560,\n",
    "#  2570,\n",
    "#  2580,\n",
    "#  2590,\n",
    "#  2600,\n",
    "#  2610,\n",
    "#  2620,\n",
    "#  2630,\n",
    "#  2640,\n",
    "#  2650,\n",
    "#  2660,\n",
    "#  2670,\n",
    "#  2680,\n",
    "#  2690,\n",
    "#  2700,\n",
    "#  2710,\n",
    "#  2720,\n",
    "#  2730,\n",
    "#  2740,\n",
    "#  2750,\n",
    "#  2760,\n",
    "#  2770,\n",
    "#  2780,\n",
    "#  2790,\n",
    "#  2800,\n",
    "#  2810,\n",
    "#  2820,\n",
    "#  2830,\n",
    "#  2840,\n",
    "#  2850,\n",
    "#  2860,\n",
    "#  2870,\n",
    "#  2880,\n",
    "#  2890,\n",
    "#  2900,\n",
    "#  2910,\n",
    "#  2920,\n",
    "#  2930,\n",
    "#  2940,\n",
    "#  2950,\n",
    "#  2960,\n",
    "#  2970,\n",
    "#  2980,\n",
    "#  2990,\n",
    "#  3000,\n",
    "#  3010,\n",
    "#  3020,\n",
    "#  3030,\n",
    "#  3040,\n",
    "#  3050,\n",
    "#  3060,\n",
    "#  3070,\n",
    "#  3080,\n",
    "#  3090,\n",
    "#  3100,\n",
    "#  3110,\n",
    "#  3120,\n",
    "#  3130,\n",
    "#  3140,\n",
    "#  3150,\n",
    "#  3160,\n",
    "#  3170,\n",
    "#  3180,\n",
    "#  3190,\n",
    "#  3200,\n",
    "#  3210,\n",
    "#  3220,\n",
    "#  3230,\n",
    "#  3240,\n",
    "#  3250,\n",
    "#  3260,\n",
    "#  3270,\n",
    "#  3280,\n",
    "#  3290,\n",
    "#  3300,\n",
    "#  3310,\n",
    "#  3320,\n",
    "#  3330,\n",
    "#  3340,\n",
    "#  3350,\n",
    "#  3360,\n",
    "#  3370,\n",
    "#  3380,\n",
    "#  3390,\n",
    "#  3400,\n",
    "#  3410,\n",
    "#  3420,\n",
    "#  3430,\n",
    "#  3440,\n",
    "#  3450,\n",
    "#  3460,\n",
    "#  3470,\n",
    "#  3480,\n",
    "#  3490,\n",
    "#  3500,\n",
    "#  3510,\n",
    "#  3520,\n",
    "#  3530,\n",
    "#  3540,\n",
    "#  3550,\n",
    "#  3560,\n",
    "#  3570,\n",
    "#  3580,\n",
    "#  3590,\n",
    "#  3600,\n",
    "#  3610,\n",
    "#  3620,\n",
    "#  3630,\n",
    "#  3640,\n",
    "#  3650,\n",
    "#  3660,\n",
    "#  3670,\n",
    "#  3680,\n",
    "#  3690,\n",
    "#  3700,\n",
    "#  3710,\n",
    "#  3720,\n",
    "#  3730,\n",
    "#  3740,\n",
    "#  3750,\n",
    "#  3760,\n",
    "#  3770,\n",
    "#  3780,\n",
    "#  3790,\n",
    "#  3800,\n",
    "#  3810,\n",
    "#  3820,\n",
    "#  3830,\n",
    "#  3840,\n",
    "#  3850,\n",
    "#  3860,\n",
    "#  3870,\n",
    "#  3880,\n",
    "#  3890,\n",
    "#  3900,\n",
    "#  3910,\n",
    "#  3920,\n",
    "#  3930,\n",
    "#  3940,\n",
    "#  3950,\n",
    "#  3960,\n",
    "#  3970,\n",
    "#  3980,\n",
    "#  3990,\n",
    "#  4000,\n",
    "#  4010,\n",
    "#  4020,\n",
    "#  4030,\n",
    "#  4040,\n",
    "#  4050,\n",
    "#  4060,\n",
    "#  4070,\n",
    "#  4080,\n",
    "#  4090,\n",
    "#  4100,\n",
    "#  4110,\n",
    "#  4120,\n",
    "#  4130,\n",
    "#  4140,\n",
    "#  4150,\n",
    "#  4160,\n",
    "#  4170,\n",
    "#  4180,\n",
    "#  4190,\n",
    "#  4200,\n",
    "#  4210,\n",
    "#  4220,\n",
    "#  4230,\n",
    "#  4240,\n",
    "#  4250,\n",
    "#  4260,\n",
    "#  4270,\n",
    "#  4280,\n",
    "#  4290,\n",
    "#  4300,\n",
    "#  4310,\n",
    "#  4320,\n",
    "#  4330,\n",
    "#  4340,\n",
    "#  4350,\n",
    "#  4360,\n",
    "#  4370,\n",
    "#  4380,\n",
    "#  4390,\n",
    "#  4400,\n",
    "#  4410,\n",
    "#  4420,\n",
    "#  4430,\n",
    "#  4440,\n",
    "#  4450,\n",
    "#  4460,\n",
    "#  4470,\n",
    "#  4480,\n",
    "#  4490,\n",
    "#  4500,\n",
    "#  4510,\n",
    "#  4520,\n",
    "#  4530,\n",
    "#  4540,\n",
    "#  4550,\n",
    "#  4560,\n",
    "#  4570,\n",
    "#  4580,\n",
    "#  4590,\n",
    "#  4600,\n",
    "#  4610,\n",
    "#  4620,\n",
    "#  4630,\n",
    "#  4640,\n",
    "#  4650,\n",
    "#  4660,\n",
    "#  4670,\n",
    "#  4680,\n",
    "#  4690,\n",
    "#  4700,\n",
    "#  4710,\n",
    "#  4720,\n",
    "#  4730,\n",
    "#  4740,\n",
    "#  4750,\n",
    "#  4760,\n",
    "#  4770,\n",
    "#  4780,\n",
    "#  4790,\n",
    "#  4800,\n",
    "#  4810,\n",
    "#  4820,\n",
    "#  4830,\n",
    "#  4840,\n",
    "#  4850,\n",
    "#  4860,\n",
    "#  4870,\n",
    "#  4880,\n",
    "#  4890,\n",
    "#  4900,\n",
    "#  4910,\n",
    "#  4920,\n",
    "#  4930,\n",
    "#  4940,\n",
    "#  4950,\n",
    "#  4960,\n",
    "#  4970,\n",
    "#  4980,\n",
    "#  4990,\n",
    "#  5000,\n",
    "#  5010,\n",
    "#  5020,\n",
    "#  5030,\n",
    "#  5040,\n",
    "#  5050,\n",
    "#  5060,\n",
    "#  5070,\n",
    "#  5080,\n",
    "#  5090,\n",
    "#  5100,\n",
    "#  5110,\n",
    "#  5120,\n",
    "#  5130,\n",
    "#  5140,\n",
    "#  5150,\n",
    "#  5160,\n",
    "#  5170,\n",
    "#  5180,\n",
    "#  5190,\n",
    "#  5200,\n",
    "#  5210,\n",
    "#  5220,\n",
    "#  5230,\n",
    "#  5240,\n",
    "#  5250,\n",
    "#  5260,\n",
    "#  5270,\n",
    "#  5280,\n",
    "#  5290,\n",
    "#  5300,\n",
    "#  5310,\n",
    "#  5320,\n",
    "#  5330,\n",
    "#  5340,\n",
    "#  5350,\n",
    "#  5360,\n",
    "#  5370,\n",
    "#  5380,\n",
    "#  5390,\n",
    "#  5400,\n",
    "#  5410,\n",
    "#  5420,\n",
    "#  5430,\n",
    "#  5440,\n",
    "#  5450,\n",
    "#  5460,\n",
    "#  5470,\n",
    "#  5480,\n",
    "#  5490,\n",
    "#  5500,\n",
    "#  5510,\n",
    "#  5520,\n",
    "#  5530,\n",
    "#  5540,\n",
    "#  5550,\n",
    "#  5560,\n",
    "#  5570,\n",
    "#  5580,\n",
    "#  5590,\n",
    "#  5600,\n",
    "#  5610,\n",
    "#  5620,\n",
    "#  5630,\n",
    "#  5640,\n",
    "#  5650,\n",
    "#  5660,\n",
    "#  5670,\n",
    "#  5680,\n",
    "#  5690,\n",
    "#  5700,\n",
    "#  5710,\n",
    "#  5720,\n",
    "#  5730,\n",
    "#  5740,\n",
    "#  5750,\n",
    "#  5760,\n",
    "#  5770,\n",
    "#  5780,\n",
    "#  5790,\n",
    "#  5800,\n",
    "#  5810,\n",
    "#  5820,\n",
    "#  5830,\n",
    "#  5840,\n",
    "#  5850,\n",
    "#  5860,\n",
    "#  5870,\n",
    "#  5880,\n",
    "#  5890,\n",
    "#  5900,\n",
    "#  5910,\n",
    "#  5920,\n",
    "#  5930,\n",
    "#  5940,\n",
    "#  5950,\n",
    "#  5960,\n",
    "#  5970,\n",
    "#  5980,\n",
    "#  5990,\n",
    "#  6000,\n",
    "#  6010,\n",
    "#  6020,\n",
    "#  6030,\n",
    "#  6040,\n",
    "#  6050,\n",
    "#  6060,\n",
    "#  6070,\n",
    "#  6080,\n",
    "#  6090,\n",
    "#  6100,\n",
    "#  6110,\n",
    "#  6120,\n",
    "#  6130,\n",
    "#  6140,\n",
    "#  6150,\n",
    "#  6160,\n",
    "#  6170,\n",
    "#  6180,\n",
    "#  6190,\n",
    "#  6200,\n",
    "#  6210,\n",
    "#  6220,\n",
    "#  6230,\n",
    "#  6240,\n",
    "#  6250,\n",
    "#  6260,\n",
    "#  6270,\n",
    "#  6280,\n",
    "#  6290,\n",
    "#  6300,\n",
    "#  6310,\n",
    "#  6320,\n",
    "#  6330,\n",
    "#  6340,\n",
    "#  6350,\n",
    "#  6360,\n",
    "#  6370,\n",
    "#  6380,\n",
    "#  6390,\n",
    "#  6400,\n",
    "#  6410,\n",
    "#  6420,\n",
    "#  6430,\n",
    "#  6440,\n",
    "#  6450,\n",
    "#  6460,\n",
    "#  6470,\n",
    "#  6480,\n",
    "#  6490,\n",
    "#  6500,\n",
    "#  6510,\n",
    "#  6520,\n",
    "#  6530,\n",
    "#  6540,\n",
    "#  6550,\n",
    "#  6560,\n",
    "#  6570,\n",
    "#  6580,\n",
    "#  6590,\n",
    "#  6600,\n",
    "#  6610,\n",
    "#  6620,\n",
    "#  6630,\n",
    "#  6640,\n",
    "#  6650,\n",
    "#  6660,\n",
    "#  6670,\n",
    "#  6680,\n",
    "#  6690,\n",
    "#  6700,\n",
    "#  6710,\n",
    "#  6720,\n",
    "#  6730,\n",
    "#  6740,\n",
    "#  6750,\n",
    "#  6760,\n",
    "#  6770,\n",
    "#  6780,\n",
    "#  6790,\n",
    "#  6800,\n",
    "#  6810,\n",
    "#  6820,\n",
    "#  6830,\n",
    "#  6840,\n",
    "#  6850,\n",
    "#  6860,\n",
    "#  6870,\n",
    "#  6880,\n",
    "#  6890,\n",
    "#  6900,\n",
    "#  6910,\n",
    "#  6920,\n",
    "#  6930,\n",
    "#  6940,\n",
    "#  6950,\n",
    "#  6960,\n",
    "#  6970,\n",
    "#  6980,\n",
    "#  6990,\n",
    "#  7000,\n",
    "#  7010,\n",
    "#  7020,\n",
    "#  7030,\n",
    "#  7040,\n",
    "#  7050,\n",
    "#  7060,\n",
    "#  7070,\n",
    "#  7080,\n",
    "#  7090,\n",
    "#  7100,\n",
    "#  7110,\n",
    "#  7120,\n",
    "#  7130,\n",
    "#  7140,\n",
    "#  7150,\n",
    "#  7160,\n",
    "#  7170,\n",
    "#  7180,\n",
    "#  7190,\n",
    "#  7200,\n",
    "#  7210,\n",
    "#  7220,\n",
    "#  7230,\n",
    "#  7240,\n",
    "#  7250,\n",
    "#  7260,\n",
    "#  7270,\n",
    "#  7280,\n",
    "#  7290,\n",
    "#  7300,\n",
    "#  7310,\n",
    "#  7320,\n",
    "#  7330,\n",
    "#  7340,\n",
    "#  7350,\n",
    "#  7360,\n",
    "#  7370,\n",
    "#  7380,\n",
    "#  7390,\n",
    "#  7400,\n",
    "#  7410,\n",
    "#  7420,\n",
    "#  7430,\n",
    "#  7440,\n",
    "#  7450,\n",
    "#  7460,\n",
    "#  7470,\n",
    "#  7480,\n",
    "#  7490,\n",
    "#  7500,\n",
    "#  7510,\n",
    "#  7520,\n",
    "#  7530,\n",
    "#  7540,\n",
    "#  7550,\n",
    "#  7560,\n",
    "#  7570,\n",
    "#  7580,\n",
    "#  7590,\n",
    "#  7600,\n",
    "#  7610,\n",
    "#  7620,\n",
    "#  7630,\n",
    "#  7640,\n",
    "#  7650,\n",
    "#  7660,\n",
    "#  7670,\n",
    "#  7680,\n",
    "#  7690,\n",
    "#  7700,\n",
    "#  7710,\n",
    "#  7720,\n",
    "#  7730,\n",
    "#  7740,\n",
    "#  7750,\n",
    "#  7760,\n",
    "#  7770,\n",
    "#  7780,\n",
    "#  7790,\n",
    "#  7800,\n",
    "#  7810,\n",
    "#  7820,\n",
    "#  7830,\n",
    "#  7840,\n",
    "#  7850,\n",
    "#  7860,\n",
    "#  7870,\n",
    "#  7880,\n",
    "#  7890,\n",
    "#  7900], './dev/possum101_11Apr-Phil-2020-04-13-diff/temp_nocomp', model.vids_separate, compression=9)"
   ]
  },
  {
   "cell_type": "code",
   "execution_count": null,
   "metadata": {
    "colab": {
     "base_uri": "https://localhost:8080/",
     "height": 51
    },
    "executionInfo": {
     "elapsed": 661,
     "status": "ok",
     "timestamp": 1602097617127,
     "user": {
      "displayName": "Philip Fahn-Lai",
      "photoUrl": "https://lh3.googleusercontent.com/a-/AOh14Gh9uuEEgXxA1VS_YNcnrMdKmmjLXXXNKKuhJEMLYtx2SpAtXmanJ9mm9UdW7SYwmg8dFFPW4aZMJpXVxzPnbNhV-w0fN_u1iCZ08-NmhS7igTl0IqrN4rlzSw6ZuCesFWGBhS4pZjFM-waTnky6imjPZ3yneykK7wvr1WayQ-7n4B9lyDV9IzRpspppFyRXyxdkXdcE2sAr_4Mbm8aXXUEyhtyWDJRS9Z0fcrpbxA6vAfUP2ZB-5IoxbkOH4cDI40q9ZpAF2hYPdZQOuvSH2VZlwxLHTbDFhbKwPR8yhM9WMj1uaLQDcs1w2j-_M6TMf90jctjf26jciKiujYc8tCXQTzOxTBDCfgZJlBysw907gX5J3roPIYISdLlclehFtTe3SYf-cF7pi_AAPoDnDjiYsbCSizFZ_EQs65OCbpi90TBOUnpBXAOw8_rpgazyGMmMd9QQ-JswwNcYXqSc3Qr0Amdv2lxfhl6LzEuVSZvVV0DaaPeIf2uKUwZU_LAv95po8PdInTOOZMEshYIxWOqGvqI64EJ4OtkvNLaxE38YfJPMLV3-XFwMzzGBj0kESRM9XXtuzewzKUwY6xQKbE8l3nmatdN2e93Hoqaxpdjf4SmoO68CLXgqXXqH2GahFXLRkVobAHLXsMPGMtoiR56WmUbvREaAS-3L_p462aHMjCwdYD5IwXUf50PcdyAwyrxTi9Qfh4x7rks0Vu3bymq9WOaSidxaXefGtfaMPm5OabznobnmoYCE4q2dMGaaq9Fbsw=s64",
      "userId": "15346657382078925700"
     },
     "user_tz": 240
    },
    "id": "dZWt2jyJbozo",
    "outputId": "52bd4d96-c033-46fa-bf1a-872dbf26a629"
   },
   "outputs": [
    {
     "data": {
      "text/html": [
       "\n",
       "  <style>\n",
       "    pre {\n",
       "        white-space: pre-wrap;\n",
       "    }\n",
       "  </style>\n",
       "  "
      ],
      "text/plain": [
       "<IPython.core.display.HTML object>"
      ]
     },
     "metadata": {
      "tags": []
     },
     "output_type": "display_data"
    },
    {
     "name": "stdout",
     "output_type": "stream",
     "text": [
      "[Errno 2] No such file or directory: 'drive/My Drive/Development/DeepLabCut'\n",
      "/content/drive/My Drive/Development/DeepLabCut\n"
     ]
    }
   ],
   "source": [
    "\n",
    "# model.dlc.filterpredictions('/content/drive/My Drive/Development/DeepLabCut/dev/possum101_11Apr-Phil-2020-04-13-diff/config.yaml',['/content/drive/My Drive/Development/DeepLabCut/videos/11Apr_diff.mp4'], filtertype=\"spline\",windowlength=7)\n",
    "# model.dlc.create_labeled_video('/content/drive/My Drive/Development/DeepLabCut/dev/possum101_11Apr-Phil-2020-04-13-diff/config.yaml',['/content/drive/My Drive/Development/DeepLabCut/videos/11Apr_diff.mp4'],filtered=True)\n"
   ]
  },
  {
   "cell_type": "code",
   "execution_count": null,
   "metadata": {
    "id": "nuh86G9Opgb0"
   },
   "outputs": [],
   "source": []
  },
  {
   "cell_type": "code",
   "execution_count": null,
   "metadata": {
    "colab": {
     "base_uri": "https://localhost:8080/",
     "height": 35
    },
    "executionInfo": {
     "elapsed": 340,
     "status": "ok",
     "timestamp": 1601919237526,
     "user": {
      "displayName": "Philip Fahn-Lai",
      "photoUrl": "https://lh3.googleusercontent.com/a-/AOh14GiSqic7FlnwXL3fHM_dnwoszawogD-jyEHpYsAZKRJxO6AYiAKAvkB9NbsrCEyP_7F-VKopCJUW1Dsi1_0UvrSiRzS_kCrA0qOgql-vhKQ94vCfMioK4OzvEE_qf5hUqZlzeKTPgopFyvJKTSTsdepkz2ZS7QE3CNgyEZjPrH5Xb5GuWnwRltNYyS6PbgOyUlcWELuocnWAfWDO2vb1J1KQ7N5YGAh-MBUPHrXoGYTnA1aykyyqy0TXH-FZcvjiDPLJa2W5CltocRlNNLiiCDm5i9KI4fzgkLg2QagzB8Lk1iUtTtmGb_rP3sDb8Fzk13Dzb7vHImfveZkOeLKS2-ntFyqGuZzjBqnszHkSmJNQxY0q95i488cVlbrGxERnPwQgIoLuw0L0RVm-jQQJOi9K0_TQSCte9FUozT5RtOkEXfgo68Gs-cFXAkfNlGsR-HK9msxebuJ9ijjXZ1az4EyuNEP7qN8_ranc4zkKb3Ap8TDnFSbJOZm0zSv8BlLNgQhIEmifrtEh1EY0aZ6bieeKWJ1TYwtsv3vEcNE08BHzfqfTTpUKPy2hqEwZuqP-a0tO5KvzGz3YrdGjDid2gsiOBXnlmY_lAS9I0eQgeCiMKzGb3enk_BxrbF4u1zwG6py9T_iz2ubMZuQW6ACzMC0EJK8a6-X3NHFY54vdiwAWjzikSrMA_SoBG_Y1v3IZ8U79eC5wRJMImSLRvRDjlfsCUb1r2YgGIhInIfmZf_51GVb8uQ4rM4fK2_V2bRrHQkSJ_Q=s64",
      "userId": "15346657382078925700"
     },
     "user_tz": 240
    },
    "id": "DumJaYeS07I6",
    "outputId": "0d088ee7-7d70-4fe0-9f49-2ecdfc7b65da"
   },
   "outputs": [
    {
     "data": {
      "text/html": [
       "\n",
       "  <style>\n",
       "    pre {\n",
       "        white-space: pre-wrap;\n",
       "    }\n",
       "  </style>\n",
       "  "
      ],
      "text/plain": [
       "<IPython.core.display.HTML object>"
      ]
     },
     "metadata": {
      "tags": []
     },
     "output_type": "display_data"
    },
    {
     "data": {
      "application/vnd.google.colaboratory.intrinsic+json": {
       "type": "string"
      },
      "text/plain": [
       "'./dev/possum101_11Apr-Phil-2020-04-13-diff/config.yaml'"
      ]
     },
     "execution_count": 26,
     "metadata": {
      "tags": []
     },
     "output_type": "execute_result"
    }
   ],
   "source": [
    "config_path"
   ]
  },
  {
   "cell_type": "code",
   "execution_count": null,
   "metadata": {
    "colab": {
     "base_uri": "https://localhost:8080/",
     "height": 289
    },
    "executionInfo": {
     "elapsed": 2847,
     "status": "ok",
     "timestamp": 1601565868254,
     "user": {
      "displayName": "Phil Fahn-Lai",
      "photoUrl": "https://lh3.googleusercontent.com/a-/AOh14GgaLRzhwWuE2_ZNOkUUkb6lkk-noGiIsb7ucOzW=s64",
      "userId": "13631433551768862211"
     },
     "user_tz": 240
    },
    "id": "6pbnDRzqySr4",
    "outputId": "71b2c355-dde5-4ba8-8ad3-19ebaa77decb"
   },
   "outputs": [
    {
     "data": {
      "text/html": [
       "\n",
       "  <style>\n",
       "    pre {\n",
       "        white-space: pre-wrap;\n",
       "    }\n",
       "  </style>\n",
       "  "
      ],
      "text/plain": [
       "<IPython.core.display.HTML object>"
      ]
     },
     "metadata": {
      "tags": []
     },
     "output_type": "display_data"
    },
    {
     "name": "stderr",
     "output_type": "stream",
     "text": [
      "/content/drive/My Drive/Development/DeepLabCut/deadROMM/possumPolish.py:283: UnsafeLoaderWarning: \n",
      "The default 'Loader' for 'load(stream)' without further arguments can be unsafe.\n",
      "Use 'load(stream, Loader=ruamel.yaml.Loader)' explicitly if that is OK.\n",
      "Alternatively include the following in your code:\n",
      "\n",
      "  import warnings\n",
      "  warnings.simplefilter('ignore', ruamel.yaml.error.UnsafeLoaderWarning)\n",
      "\n",
      "In most other cases you should consider using 'safe_load(stream)'\n",
      "  self.config = ruamel.yaml.load(open(self.yaml))\n"
     ]
    },
    {
     "name": "stdout",
     "output_type": "stream",
     "text": [
      "Updated config.yaml with event filterPredictions_aug_allaug_cross_220 at 01Oct20_15h24m25s\n",
      "Successfully filtered model predictions; saved ./dev/possum101_11Apr-Phil-2020-04-13-diff/labeled-data/11Apr_diff/FilteredMachineLabels_01Oct20_15h24m25s.h5\n",
      "Updated config.yaml with event splitDlc2Xma at 01Oct20_15h24m26s\n",
      "Successfully split DLC format to XMALab 2D points; saved ./dev/possum101_11Apr-Phil-2020-04-13-diff/labeled-data/11Apr_diff/FilteredMachineLabels_01Oct20_15h24m25s_split_01Oct20_15h24m26s.csv\n"
     ]
    }
   ],
   "source": [
    "model.subsetPredictions('./videos/11Apr_diffDLC_resnet50_possum101_11AprApr13shuffle1_80000.h5',model.config['history']['04Aug20_21h12m49s']['files'],'aug_allaug_cross_220')"
   ]
  },
  {
   "cell_type": "code",
   "execution_count": null,
   "metadata": {
    "colab": {
     "base_uri": "https://localhost:8080/",
     "height": 258
    },
    "executionInfo": {
     "elapsed": 35624,
     "status": "ok",
     "timestamp": 1590444349382,
     "user": {
      "displayName": "Phil Fahn-Lai",
      "photoUrl": "https://lh3.googleusercontent.com/a-/AOh14GgaLRzhwWuE2_ZNOkUUkb6lkk-noGiIsb7ucOzW=s64",
      "userId": "13631433551768862211"
     },
     "user_tz": 240
    },
    "id": "R-1ytuoWudYB",
    "outputId": "02d782c0-1783-48e3-f10a-5941d5f56cfb"
   },
   "outputs": [
    {
     "name": "stdout",
     "output_type": "stream",
     "text": [
      "/content/drive/My Drive/Development/DeadROMM/possum101_11Apr-Phil-2020-04-13-diff/training-datasets/iteration-3/UnaugmentedDataSet_possum101_11AprApr13  already exists!\n",
      "Annotation data converted to unix format...\n",
      "/content/drive/My Drive/Development/DeadROMM/possum101_11Apr-Phil-2020-04-13-diff/dlc-models/iteration-3/possum101_11AprApr13-trainset95shuffle1  already exists!\n",
      "/content/drive/My Drive/Development/DeadROMM/possum101_11Apr-Phil-2020-04-13-diff/dlc-models/iteration-3/possum101_11AprApr13-trainset95shuffle1/train  already exists!\n",
      "/content/drive/My Drive/Development/DeadROMM/possum101_11Apr-Phil-2020-04-13-diff/dlc-models/iteration-3/possum101_11AprApr13-trainset95shuffle1/test  already exists!\n",
      "The training dataset is successfully created. Use the function 'train_network' to start training. Happy training!\n"
     ]
    },
    {
     "data": {
      "text/plain": [
       "[(0.95,\n",
       "  1,\n",
       "  (array([57, 62, 69, 32, 70,  1, 35, 29,  6, 66, 48, 79, 22, 44, 40, 36, 21,\n",
       "           7, 10,  5, 43, 63,  8, 31, 55, 38, 33, 65, 41,  2, 73, 50, 24, 77,\n",
       "          52, 53, 16, 64, 78, 67, 30, 72,  9, 71, 47, 75, 59, 23, 37, 19, 15,\n",
       "          25, 76, 58, 20, 42, 14, 68, 74, 39, 49, 12, 56,  0, 46,  4, 27, 60,\n",
       "          26, 34, 13, 54, 51, 45, 11, 28]), array([ 3, 17, 18, 61])))]"
      ]
     },
     "execution_count": 27,
     "metadata": {
      "tags": []
     },
     "output_type": "execute_result"
    }
   ],
   "source": [
    "model.dlc.create_training_dataset(model.yaml,windows2linux=True)"
   ]
  },
  {
   "cell_type": "code",
   "execution_count": null,
   "metadata": {
    "colab": {
     "base_uri": "https://localhost:8080/",
     "height": 289
    },
    "executionInfo": {
     "elapsed": 1208,
     "status": "ok",
     "timestamp": 1590444878322,
     "user": {
      "displayName": "Phil Fahn-Lai",
      "photoUrl": "https://lh3.googleusercontent.com/a-/AOh14GgaLRzhwWuE2_ZNOkUUkb6lkk-noGiIsb7ucOzW=s64",
      "userId": "13631433551768862211"
     },
     "user_tz": 240
    },
    "id": "swrP1i3l2OFH",
    "outputId": "25629f38-f360-4b99-bcd7-138d1c857544"
   },
   "outputs": [
    {
     "name": "stdout",
     "output_type": "stream",
     "text": [
      "Mon May 25 22:14:37 2020       \n",
      "+-----------------------------------------------------------------------------+\n",
      "| NVIDIA-SMI 440.82       Driver Version: 418.67       CUDA Version: 10.1     |\n",
      "|-------------------------------+----------------------+----------------------+\n",
      "| GPU  Name        Persistence-M| Bus-Id        Disp.A | Volatile Uncorr. ECC |\n",
      "| Fan  Temp  Perf  Pwr:Usage/Cap|         Memory-Usage | GPU-Util  Compute M. |\n",
      "|===============================+======================+======================|\n",
      "|   0  Tesla P100-PCIE...  Off  | 00000000:00:04.0 Off |                    0 |\n",
      "| N/A   44C    P0    34W / 250W |  15767MiB / 16280MiB |      0%      Default |\n",
      "+-------------------------------+----------------------+----------------------+\n",
      "                                                                               \n",
      "+-----------------------------------------------------------------------------+\n",
      "| Processes:                                                       GPU Memory |\n",
      "|  GPU       PID   Type   Process name                             Usage      |\n",
      "|=============================================================================|\n",
      "+-----------------------------------------------------------------------------+\n"
     ]
    }
   ],
   "source": [
    "gpu_info = !nvidia-smi\n",
    "gpu_info = '\\n'.join(gpu_info)\n",
    "if gpu_info.find('failed') >= 0:\n",
    "  print('Select the Runtime > \"Change runtime type\" menu to enable a GPU accelerator, ')\n",
    "  print('and then re-execute this cell.')\n",
    "else:\n",
    "  print(gpu_info)"
   ]
  }
 ],
 "metadata": {
  "accelerator": "GPU",
  "colab": {
   "collapsed_sections": [],
   "machine_shape": "hm",
   "name": "Harvard-deadROMM-colab.ipynb",
   "provenance": []
  },
  "kernelspec": {
   "display_name": "Python 3",
   "language": "python",
   "name": "python3"
  },
  "language_info": {
   "codemirror_mode": {
    "name": "ipython",
    "version": 3
   },
   "file_extension": ".py",
   "mimetype": "text/x-python",
   "name": "python",
   "nbconvert_exporter": "python",
   "pygments_lexer": "ipython3",
   "version": "3.9.2"
  }
 },
 "nbformat": 4,
 "nbformat_minor": 4
}
